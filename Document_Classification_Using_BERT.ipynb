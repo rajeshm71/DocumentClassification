{
 "cells": [
  {
   "cell_type": "code",
   "execution_count": 17,
   "metadata": {
    "colab": {
     "base_uri": "https://localhost:8080/"
    },
    "id": "N1z4f_BKlOMB",
    "outputId": "7650d3cd-9e0f-43fa-f7bf-a268edd992ab"
   },
   "outputs": [
    {
     "name": "stdout",
     "output_type": "stream",
     "text": [
      "Mounted at /content/gdrive\n"
     ]
    }
   ],
   "source": [
    "from google.colab import drive\n",
    "drive.mount('/content/gdrive')"
   ]
  },
  {
   "cell_type": "code",
   "execution_count": 2,
   "metadata": {
    "colab": {
     "base_uri": "https://localhost:8080/"
    },
    "id": "aepxXHb0lSWR",
    "outputId": "10de1d86-b3ba-46e4-a7f0-9d3d43b74439"
   },
   "outputs": [
    {
     "name": "stdout",
     "output_type": "stream",
     "text": [
      "\u001b[K     |████████████████████████████████| 4.9 MB 10.4 MB/s \n",
      "\u001b[?25h"
     ]
    }
   ],
   "source": [
    "!pip install -q -U tensorflow-text"
   ]
  },
  {
   "cell_type": "code",
   "execution_count": 3,
   "metadata": {
    "colab": {
     "base_uri": "https://localhost:8080/"
    },
    "id": "kLQb3T6DeO9D",
    "outputId": "66b35f0a-ed61-4e50-fe28-b1c75a74641d"
   },
   "outputs": [
    {
     "name": "stdout",
     "output_type": "stream",
     "text": [
      "\u001b[K     |████████████████████████████████| 1.8 MB 8.3 MB/s \n",
      "\u001b[K     |████████████████████████████████| 596 kB 29.9 MB/s \n",
      "\u001b[K     |████████████████████████████████| 43 kB 1.8 MB/s \n",
      "\u001b[K     |████████████████████████████████| 47.6 MB 38 kB/s \n",
      "\u001b[K     |████████████████████████████████| 1.1 MB 26.5 MB/s \n",
      "\u001b[K     |████████████████████████████████| 90 kB 8.2 MB/s \n",
      "\u001b[K     |████████████████████████████████| 213 kB 53.9 MB/s \n",
      "\u001b[K     |████████████████████████████████| 1.2 MB 46.2 MB/s \n",
      "\u001b[K     |████████████████████████████████| 99 kB 7.7 MB/s \n",
      "\u001b[K     |████████████████████████████████| 352 kB 61.8 MB/s \n",
      "\u001b[?25h  Building wheel for py-cpuinfo (setup.py) ... \u001b[?25l\u001b[?25hdone\n",
      "  Building wheel for seqeval (setup.py) ... \u001b[?25l\u001b[?25hdone\n"
     ]
    }
   ],
   "source": [
    "!pip install -q tf-models-official"
   ]
  },
  {
   "cell_type": "code",
   "execution_count": 4,
   "metadata": {
    "id": "j75OZhQfeLyg"
   },
   "outputs": [],
   "source": [
    "#import required libraries\n",
    "import pandas as pd\n",
    "import os\n",
    "import shutil\n",
    "import tensorflow as tf\n",
    "import tensorflow_hub as hub\n",
    "import tensorflow_text as text\n",
    "from official.nlp import optimization  # to create AdamW optimizer\n",
    "import matplotlib.pyplot as plt\n",
    "tf.get_logger().setLevel('ERROR')"
   ]
  },
  {
   "cell_type": "code",
   "execution_count": 5,
   "metadata": {
    "colab": {
     "base_uri": "https://localhost:8080/"
    },
    "id": "5-kG44ued6r6",
    "outputId": "8a703064-8cb3-458e-a9aa-d67f604f04e7"
   },
   "outputs": [
    {
     "name": "stdout",
     "output_type": "stream",
     "text": [
      "2.7.0\n"
     ]
    }
   ],
   "source": [
    "print(tf.__version__)"
   ]
  },
  {
   "cell_type": "code",
   "execution_count": 6,
   "metadata": {
    "id": "QKqRTefCfb5m"
   },
   "outputs": [],
   "source": [
    "train_dir = '/content/gdrive/MyDrive/TrainingData'   #define your training data path here"
   ]
  },
  {
   "cell_type": "code",
   "execution_count": 7,
   "metadata": {
    "colab": {
     "base_uri": "https://localhost:8080/"
    },
    "id": "c4JafKyhfsUO",
    "outputId": "6a8adc67-ffbf-4dcd-b631-6d02a8a0a163"
   },
   "outputs": [
    {
     "name": "stdout",
     "output_type": "stream",
     "text": [
      "Found 256 files belonging to 16 classes.\n",
      "Using 205 files for training.\n",
      "Found 256 files belonging to 16 classes.\n",
      "Using 51 files for validation.\n"
     ]
    }
   ],
   "source": [
    "# create dataset compatible to feed to the model\n",
    "AUTOTUNE = tf.data.AUTOTUNE\n",
    "batch_size = 2   #data is fed in batches to the model. Increase this number for larger dataset in power of 2 like 2,4,8,16,32\n",
    "seed = 42        # this is used to reproduce same results\n",
    "\n",
    "#Below function used to create training dataset in tf.Data.Dataset format\n",
    "raw_train_ds = tf.keras.preprocessing.text_dataset_from_directory(\n",
    "    train_dir,  \n",
    "    label_mode='int',\n",
    "    batch_size=batch_size,\n",
    "    validation_split=0.2,\n",
    "    subset='training',\n",
    "    seed=seed)\n",
    "\n",
    "# You can get class_names from below attribute\n",
    "class_names = raw_train_ds.class_names\n",
    "train_ds = raw_train_ds.cache().prefetch(buffer_size=AUTOTUNE) #This will prefetch the next batch and cache your data for faster processing\n",
    "\n",
    "\n",
    "#make your validation dataset\n",
    "val_ds = tf.keras.preprocessing.text_dataset_from_directory(\n",
    "    train_dir,\n",
    "    label_mode='int',\n",
    "    batch_size=batch_size,\n",
    "    validation_split=0.2,\n",
    "    subset='validation',\n",
    "    seed=seed)\n",
    "\n",
    "val_ds = val_ds.cache().prefetch(buffer_size=AUTOTUNE)"
   ]
  },
  {
   "cell_type": "code",
   "execution_count": 8,
   "metadata": {
    "colab": {
     "base_uri": "https://localhost:8080/"
    },
    "id": "tOMTDVTZGf3K",
    "outputId": "d6fabb91-10be-43c4-e1c0-3229d30b33cd"
   },
   "outputs": [
    {
     "name": "stdout",
     "output_type": "stream",
     "text": [
      "Text: b'Irlt\\xc3\\x84I Barry Satchell 24 Canberra Ave Lynfield AUCKLAND\\n\\nsion Consent Application Land Use / Subdivi Oct 2020\\n\\nPrepared For:\\n\\n24 Canberra Ave   60 New North Road, Mt Eden\\nLynfield          PO Box 10 343             \\nAuckland 1042     Auckland, New Zealand     \\n\\nPrepared By:\\n\\nApproved By:\\n\\nEric Xie\\n\\nA\\n\\n24 Canberra Avenue, Lynfield Resource Consent Application\\n\\n24 Canberra Ave\\n\\nLynfield AUCKLAND Land Use/ Subdivision Consent\\n\\nApplication\\n\\nBarry Satchell Consultants Limited\\n\\n\\xe2\\x80\\xa6\\xe2\\x80\\xa6\\xe2\\x80\\xa6\\xe2\\x80\\xa6\\xe2\\x80\\xa6\\xe2\\x80\\xa6\\xe2\\x80\\xa6\\xe2\\x80\\xa6\\xe2\\x80\\xa6\\xe2\\x80\\xa6\\xe2\\x80\\xa6\\xe2\\x80\\xa6\\xe2\\x80\\xa6\\xe2\\x80\\xa6\\xe2\\x80\\xa6. Chris Kitson Planning Consultant BTP\\n\\n\\xe2\\x80\\xa6\\xe2\\x80\\xa6\\xe2\\x80\\xa6\\xe2\\x80\\xa6\\xe2\\x80\\xa6\\xe2\\x80\\xa6\\xe2\\x80\\xa6\\xe2\\x80\\xa6\\xe2\\x80\\xa6\\xe2\\x80\\xa6\\xe2\\x80\\xa6\\xe2\\x80\\xa6\\xe2\\x80\\xa6\\xe2\\x80\\xa6\\xe2\\x80\\xa6. Paul Wilson Director NZCE (Civil), REA, MIPENZ (Civil), CPEng, MNZIM\\n\\nTelephone: 09 623 4573 Facsimile: 09 639 0845\\n\\nDate: Oct 2020 Reference: 7502 Status: FINAL REVISION\\n\\nThis document is the property of Barry Satchell Consultants Limited.\\nAny unauthorised employment or reproduction, in full or part is forbidden.\\n\\n\\xc2\\xa9 Barry Satchell Consultants Limited\\n\\nG:\\\\2019 WORK\\\\CANBERRA 24 Eric\\\\CONSENT 2\\\\S.92\\\\Oct 2020 AEE Revised\\\\7502 - 24 Canberra Rd - LUC & SUB RC application\\n\\nrevision.docx\\n\\n2\\n\\nBarry Satchell\\n\\nTHE APPLICANT and property DETAILS\\n\\n24 Canberra Avenue, Lynfield Resource Consent Application\\n\\nAuckland Council\\n\\nApplicants Name: Name and Address for Fees:\\n\\nSite Address: Legal Description:\\n\\nOwners and Occupiers of Site: Site Area:\\n\\nH Xie (Eric) H Xie (Eric) 22 Canberra Ave, Lynfield, Auckland 1042 24 Canberra Ave, Lynfield, Auckland 1042 Lot 244 DP53885 & Comprised in Certificates of title NA61A/396 H Xie 941m2\\n\\nAuckland Unitary Plan Operative in Part (AUP OP) Residential Mixed Housing Suburban\\n\\nOverlays: Controls:\\n\\nDesignations/limitations:\\n\\nNil Controls: Macroinvertebrate Community Index - Urban Stormwater Management Area Control HILLSBOROUGH 1, Flow 2 N/A\\n\\nLocality diagram: 24 Canberra Ave, Lynfield,\\n\\n35\\n\\n2.2\\n\\n37\\n\\n24\\n\\n2\\n\\n26\\n\\n43\\n\\n28\\n\\nBrief description of proposal: Summary of reasons for consent:\\n\\nThis is an integrated land use & subdivision consent seeking approval to construct four new dwellings and then to obtain a Resource Consent to subdivide around the approved Land Use Consent removing the existing house, & making a new vehicle crossing.\\nFour new dwellings is a Restricted Discretionary Activity.\\nThe alternative height in relation to boundary is exceeded along with height in relation to boundary, H4.4.1 (A4), Table H4.4.1 Criteria H4.8.2 (2) (a) to (i) with, maximum impervious area, outlook living court H4.6.13, Yards H4.6.7 (1), Fencing H4.6.14 and then E10.4.1 (A3) stormwater\\n\\nG: \\\\2019 WORK\\\\ CANBERRA 24 Eric\\\\ CONSENT 2 \\\\ S.92 \\\\ Oct 2020 AEE Revised \\\\ 7502 - 24 Canberra Rd - LUC & SUB RC application\\n\\nrevision. docx\\n\\n3\\n\\n24 Canberra Avenue, Lynfield Resource Consent Application\\n\\ndrainage, E27.6.4.4.1 (T157) (3) the gradient of the first 4m of driveway & E12.8.1 earthworks and finally Subdivision E38 which are all Restricted Discretionary Activities.\\nOther types of consents required or obtained: Building consent applications & Sec 223 & 224C applications required plus any engineering approvals.\\n\\nI attach, in accordance with the Fourth Schedule to the Resource Management Act 1991, an assessment of environmental effects that corresponds with the scale and significance of the effects that the proposed activity may have on the environment.\\n\\nList of other information attached:\\n\\n1. Location plans and aerial photo.\\n2. Certificate of Title.\\n3. SchemePlan. 4.\\nEngineering Stormwater Report ROW & CAW plan & standard details plus wastewater & stormwater drainage plans including long section & typical standard details all by BSCL. 5.\\nArchitects Plans. 1 SITE DESCRIPTION\\n\\nLocality photograph\\n\\nThe site is located on the eastern side of Canberra Avenue just south of the intersection with James Tyler Crescent and at the north-eastern most point of Wattle Bay Reserve that adjoins the site at the rear.\\nThe site has a relatively even slope down to the road over about 5.6m.\\nThe existing house and outbuildings are served by a driveway along the northern side boundary with 22 Canberra Ave.\\nThe existing house, outbuildings and existing vehicle crossing will be removed.\\n\\n2 THE PROPOSAL\\n\\nIntroduction. This amended report supersedes the previous report dated July 2020.\\n\\nG:\\\\2019 WORK\\\\CANBERRA 24 Eric\\\\CONSENT 2\\\\S.92\\\\Oct 2020 AEE Revised\\\\7502 - 24 Canberra Rd - LUC & SUB RC application\\n\\nrevision.docx\\n\\n4\\n\\n24 Canberra Avenue, Lynfield Resource Consent Application\\n\\nThe proposal is for a four-lot subdivision removing the existing house and constructing four new houses.\\nThe total existing site area is 941m\\xc2\\xb2.\\nAn application was made in mid-2019 and this new application makes some changes to overall coverages, outlook & external design layout and answers some further information questions under S.92 of the RMA. A new accessway is proposed along the southern boundary to maximise the outdoor areas for the proposed housing.\\nThe existing vehicle crossing will be returned to footpath.\\nA unique component for houses in this part of Canberra Ave is that they back onto a large Council reserve being Wattle Bay Reserve.\\nAccess to this passive recreational area is limited, there is a public access point between 34 & 36 Canberra Ave to the south.\\nThe applicant proposes to create an internal private pedestrian access point to the park for the prospective owners of lots1-4.\\nThe applicant is also the owner of 22 Canberra adjoining to the north.\\nThis site at 22 Canberra will be developed in the near future with a new driveway to its southern boundary which adjoins the subject site.\\nThere is a minor effect on this site in terms of height in relation to boundary and outlook infringements, although it to the south of their site.\\nIt may also have a private pedestrian access incorporated into the overall design as it is subdivided in the future.\\nThis further increases the distance between houses on the two sites and helps mitigate any infringement.\\nEach of the houses will be over two levels with the design of the front house on Lot 1 addressing the road with its pedestrian access, orientation & outlook to the road.\\nThis generally meets the urban design and public surveillance protocols.\\nThe houses on lots 2-4 have the same floor plan (room layout) with lots 2 & 3 being identical and lot 4 being the same floor plan but with larger room areas particularly for the upper floor.\\nProposed Lot 1 to the west and closest to the road has a gross site area of 240m\\xc2\\xb2 & net area of 183m\\xc2\\xb2 with a house footprint area of 78.2m.\\nProposed Lot 2 & Lot 3 have a gross site area of 240.5m\\xc2\\xb2 & net area of 183.4m\\xc2\\xb2 with a house footprint area of 79.9m.\\nProposed Lot 4 is the rear lot backing onto the Council reserve and has a gross site area of 221.1m\\xc2\\xb2 & net area of 206.1m\\xc2\\xb2 with a house footprint area of 85m.\\nThe proposed houses on Lot 1-4 are over two levels.\\nLot 1 has the ground floor containing a single garage, laundry, entrance, toilet and stairway along with a kitchen and living area.\\nThe upper level has a master bedroom with ensuite, three additional bedrooms and a bathroom.\\nLots 2-4 have the ground floor containing a single garage, laundry, entrance, bedroom, bathroom and stairway along with a kitchen and living area.\\nThe upper levels have a master bedroom with ensuite, two additional bedrooms, a small lounge and a bathroom.\\nEach of the house\\'s steps down to the road, there are small retaining walls as shown on drawings RC-A-03, RC-A-16 & the elevations.\\nThere are no overlooking windows internally between the houses, therefore the internal daylight rule is easily met.\\nThe general height in relation to boundary rule H4.6.5 is infringed along the northern side boundary and the alternative rule H4.6.6 is utilised and generally meets the listed criteria for the northern boundaries of proposed Lots 1 and lot 2.\\nThe proposal infringes both the general & alternative height in relation to boundary rule.\\n\\nThe maximum impervious rule H4.6.8 is 65.8% or 55m\\xc2\\xb2 over for the total site.\\nThe individual lots are shown on the sheet 1 table of the plans.\\nThe outlook space rule H4.6.11 is infringed for the principal living rooms (6m by 6m) for lots 2-4 where the outlook area projects 1m into the side neighbours\\' site at 22 Canberra Ave.\\nEach of the houses have another large living room widow on the eastern wall with a further smaller outlook.\\n\\nThe outdoor living area rule H4.6.13 (1) (a) is infringed on proposed Lot 1where the dimension is less than the required 4m at 3.03m.\\nThe area at 3.03m continues in front of the house and living room area and overall is\\n\\nG:\\\\2019 WORK\\\\CANBERRA 24 Eric\\\\CONSENT 2\\\\S.92\\\\Oct 2020 AEE Revised\\\\7502 - 24 Canberra Rd - LUC & SUB RC application\\n\\nrevision.docx\\n\\n5\\n\\n24 Canberra Avenue, Lynfield Resource Consent Application\\n\\nlarger than the 20m\\xc2\\xb2 that would be required.\\nThe available conforming area is 17.8m\\xc2\\xb2.\\nThere is an area of 12m\\xc2\\xb2 to the north-east with access from the laundry and with outlook from the kitchen as mitigation.\\n\\nThe Yard rule H4.6.7 (1) is technically infringed by the handrail of a small deck in the front yard which means (arguably) that the deck becomes a building in the front yard as the deck handrail is 1.97m over original ground level.\\nThis is extremely minor in degree and I do not believe this should be a reason for consent.\\nHowever, we are applying for it in order to progress the application.\\nUnder the same rule there is also a retained part of the rear yard where it adjoins the Open Space zone.\\nThe small retaining wall is 0.6m in ground and within 1.5 metre of that rear boundary being 0.5m away.\\nThe definition in Chapter J1 states \"Retaining walls or breastwork Over 1.5m in height or located within 1.5m of the boundary of a road or public place\" is a building.\\nThe front yard fence has a 1.8m high component from the northern boundary down to the centrally located front pedestrian gate rather than the 1.4m height which is required.\\nThe higher fence has been proposed to allow for greater privacy in the front yard outdoor living area.\\nThis component infringes rule H4.6.14 and H4.8.2 (2) (vii).\\nThe site is within a Stormwater Management Area Control Hillsborough 1, Flow 2 and this is fully discussed in appendix E and is a restricted discretionary activity under rule E10.4.1(A3).\\nThe overall earthworks for the site will involve virtually the whole site to be cleared where the site is stepped down to the road including retaining walls, building platforms and the construction of the driveway.\\nThe earthwork rule E12.4.1 (A3) & (A7) is infringed the applicant has provided an earthwork management plan in appendix H. The existing vehicle crossing will be removed and reinstated to Auckland Transport standards.\\nA new crossing to the south will serve each of the lots with a small infringement to rule E27.4.4.1(T157) (3) where the gradient over the first 4m from the road boundary does not meet the 1:20 gradient.\\nThe proposed driveway goes down to the road and in this case the infringement arises due to drainage engineering reasons where the levels proposed are due to existing manhole cover levels within that area of the site.\\nThe engineering drawings in appendix D cover this area of non-compliance.\\nThe subdivision is shown on the scheme plan in appendix A where proposed drainage connections are shown along with proposed easements.\\nDrainage engineering design plans is attached as Appendix C. The proposed subdivision meets the general standards under rule E38.4.2 (A14) & E38.8.2.1.\\n\\n3 REASONS FOR THE APPLICATION\\n\\nUnder the AUP OP the site is zoned Residential Mixed Housing Suburban.\\nResource Consent is required for the following reasons.\\n\\n* Rule H4.4.1 (A4) Where four or more dwellings per site require a restricted discretionary activity assessment.\\nWhere Rule H4.6.5 Height in Relation to Boundary and Rule H.6.6.6 Alternative height in relation boundary are not met.\\nWhere under the relevant assessment criteria of H4.8.2 (2) the additional rules outlined below are assessed;\\n\\n1. Rule H4.6.8 Maximum Impervious Area where the total site is 65.8% or over by 55m\\xc2\\xb2.\\n2. Rule H4.6.11 Outlook is infringed for the principal living rooms for lots 2 & 3 where there is a partial building obstruction and then for lots 2-4 where the outlook area projects into the side neighbours site at 22 Canberra Ave.\\n\\n3. Rule H4.6.13 Outdoor Living Space for lot 1 is 17.8m\\xc2\\xb2 rather the 20m\\xc2\\xb2 required.\\n\\n4. Rule H4.6.13 Fencing in part of the front yard is 1.8m high rather than the 1.4m required.\\nThis requires a restricted discretionary assessment.\\n\\nG:\\\\2019 WORK\\\\CANBERRA 24 Eric\\\\CONSENT 2\\\\S.92\\\\Oct 2020 AEE Revised\\\\7502 - 24 Canberra Rd - LUC & SUB RC application\\n\\nrevision.docx\\n\\n6\\n\\n*\\n\\n*\\n\\n*\\n\\n*\\n\\n*\\n\\n* *\\n\\n24 Canberra Avenue, Lynfield Resource Consent Application\\n\\nRule H4.8.2 94) a-d Height in relation to boundary along the southern boundary with 22 Canberra Ave.\\nThis requires a restricted discretionary activity assessment.\\n\\nRule H4.6.7 (1) Yards where a front deck handrail is 1.97m high in the front yard and an inground 0.6m retaining wall is within 0.5m of the rear boundary where it adjoins an Open Space zone.\\nThis requires a restricted discretionary activity assessment.\\n\\nRule E10.4.1 (A3) Stormwater Drainage is affected as the site is within a Stormwater Management Area Control Hillsborough 1, Flow 2.\\nThis requires a restricted discretionary activity assessment.\\n\\nRule E12.4.1 (A3) & (A7) Earthworks is infringed and is over the permitted 500m\\xc2\\xb2 for the area but less than 1000m\\xc2\\xb2 and over the 250m\\xc2\\xb3 but less than the 1000m\\xc2\\xb3.\\nThis requires a restricted discretionary activity assessment.\\n\\nRule E27.6.4.4.1(T157) (3) Access is infringed where; Gradient of vehicle access (1) the gradient of the access must not be steeper than specified in Table E27.64.4.1 Gradient of vehicle access(T157) Figure E27.6.4.4.3 Gradient transition.\\nThis requires a restricted discretionary activity assessment.\\n\\nRule E38.8.2.2 where subdivision is around existing or approved buildings on proposed lot 1- 4.\\nThis requires a discretionary activity assessment as rule E27.6.4.4.1(T157) (3) is infringed.\\n\\nRule E38.4.2 (A14) & E38.8.2.1 Subdivision requires a restricted discretionary assessment.\\n\\nOverall, the land use proposal is a restricted discretionary activity.\\nWe note that the site contains one existing house and that the application replaces this house and makes provision for three additional new houses.\\nOne additional house can be built as of right and therefore the \"four or more\" rule is only triggered as the application is combined as only three additional new houses are being proposed for the site and an existing one is being replaced thus being four overall.\\n\\n4.0 NOTIFICATION ASSESSMENT\\n\\nPublic notification assessment (sections 95A, 95C-95D) Section 95A specifies the steps the council is to follow to determine whether an application is to be publicly notified.\\nThese steps are addressed in the statutory order below.\\n\\nStep 1: mandatory public notification in certain circumstances No mandatory notification is required as:\\n\\n* the applicant has not requested that the application is publicly notified (s95A(3)(a));\\n\\n* there are no outstanding or refused requests for further information (s95C and s95A(3)(b)); and\\n\\n* the application does not involve any exchange of recreation reserve land under s15AA of the Reserves Act 1977 (s95A(3)(c)).\\n\\nStep 2: if not required by step 1, public notification precluded in certain circumstances Public notification of a resource consent application exclusively involving a residential activity (as defined by s95A(6)) is precluded where the activity status for the application is restricted discretionary or discretionary (ss95A(4) and 95A(5)(b)(ii)).\\nIn this case, the proposal is a residential activity as:\\n\\n* the land is zoned Residential Mixed Housing Suburban\\n\\n* the activities requiring resource consent are associated with the construction and use of dwellings, namely earthworks required for the creation of a building platforms, access, etc.; construction of the dwellings; infrastructure connections required to service the dwellings; and\\n\\nG:\\\\2019 WORK\\\\CANBERRA 24 Eric\\\\CONSENT 2\\\\S.92\\\\Oct 2020 AEE Revised\\\\7502 - 24 Canberra Rd - LUC & SUB RC application\\n\\nrevision.docx\\n\\n7\\n\\n24 Canberra Avenue, Lynfield Resource Consent Application\\n\\na range of development control infringements that are under a restricted discretionary assessment.\\nThe application is therefore precluded from being publicly notified unless special circumstances addressed in step 4 below warrant otherwise.\\n\\nStep 3: if not precluded by step 2, public notification required in certain circumstances As the applications is precluded from public notification by step 2, this step is not applicable.\\n\\nStep 4: public notification in special circumstances If an application has not been publicly notified as a result of any of the previous steps, then the council is required to determine whether special circumstances exist that warrant it being publicly notified (s95A(9)).\\nSpecial circumstances are those that are:\\n\\n* exceptional, abnormal or unusual, but something less than extraordinary or unique;\\n\\n* outside of the common run of applications of this nature; or\\n\\n* circumstances which make notification desirable.\\n\\nIn this instance I have turned my mind specifically to the existence of any special circumstances and conclude that there is nothing exceptional or unusual about the application, and that the proposal has nothing out of the ordinary to suggest that public notification should occur.\\nThe construction of new dwellings on sites in residentially zoned areas that are affected by the \"four or more dwellings\" assessment criteria I note that the proposed buildings are comparable to those in the area and those contemplated by the zone.\\nPublic notification conclusion Having undertaken the s95A public notification tests, the following conclusions are reached:\\n\\n* Under step 1, public notification is not mandatory.\\n\\n* Under step 2, public notification is precluded as the application is exclusively for a residential activity.\\n\\n* Step 3 of the notification tests is not applicable due to the finding of step 2.\\n\\n* Under step 4, there are no special circumstances that warrant the application being publicly notified.\\nIt is therefore recommended that this application be processed without public notification\\n\\nLimited notification assessment (sections 95B, 95E-95G) If the application is not publicly notified under s95A, the council must follow the steps set out in s95B to determine whether to limited notify the application.\\nThese steps are addressed in the statutory order below.\\nStep 1: certain affected protected customary rights groups must be notified There are no protected customary rights groups or customary marine title groups affected by the proposed activities (s95B(2)).\\nIn addition, the council must determine whether the proposed activity is on or adjacent to, or may affect, land that is subject of a statutory acknowledgement under schedule 11, and whether the person to whom the statutory acknowledgement is made is an affected person (s95B(3)).\\nWithin the Auckland region the following statutory acknowledgements are relevant:\\n\\n* Te Uri o Hau Claims Settlement Act 2002\\n\\n* Ng\\xc4\\x81ti Manuhiri Claims Settlement Act 2012\\n\\nG:\\\\2019 WORK\\\\CANBERRA 24 Eric\\\\CONSENT 2\\\\S.92\\\\Oct 2020 AEE Revised\\\\7502 - 24 Canberra Rd - LUC & SUB RC application\\n\\nrevision.docx\\n\\n8\\n\\n24 Canberra Avenue, Lynfield Resource Consent Application\\n\\n* Ng\\xc4\\x81ti Wh\\xc4\\x81tua \\xc5\\x8cr\\xc4\\x81kei Claims Settlement Act 2012\\n\\n* Ng\\xc4\\x81ti Wh\\xc4\\x81tua o Kaipara Claims Settlement Act 2013\\n\\n* Te Kawerau \\xc4\\x81 Maki Claims Settlement Act 2015\\n\\n* Ng\\xc4\\x81ti Tamaoho Claims Settlement Act 2018\\n\\n* Ng\\xc4\\x81i Tai Ki T\\xc4\\x81maki Claims Settlement Act 2018 In this instance, the proposal is not on or adjacent to land that is subject to a statutory acknowledgement, and will not result in adversely affected persons in this regard.\\n\\nStep 2: if not required by step 1, limited notification precluded in certain circumstances The application is not precluded from limited notification as:\\n\\n* the application is not for one or more activities that are exclusively subject to a rule orNES which preclude limited notification (s95B(6)(a)), and\\n\\n* the application is not exclusively for one or both of the following: a controlled activity, other than a subdivision, that requires consent under a district plan; or a prescribed activity (s95B(6)(b))\\n\\nStep 3: if not precluded by step 2, certain other affected persons must be notified As this application is not for a boundary activity or a prescribed activity, there are no affected persons related to those types of activities (s95B(7)).\\nThe following assessment addresses whether there are any affected persons that the application is required to be limited notified to (s95B(8)).\\nIn determining whether a person is an affected person:\\n\\n* a person is affected if adverse effects on that person are minor or more than minor (but not less than minor);\\n\\n* adverse effects permitted by a rule in a plan orNES (the permitted baseline) may be disregarded;\\n\\n* the adverse effects on those persons who have provided their written approval must be disregarded; and\\n\\n* as a restricted discretionary activity, only those effects on persons that fall within the matters of discretion restricted under the plan can be considered.\\nThese matters are as described within the reasons for the application in Part 3 above.\\nNo other effects have been taken into account in this assessment.\\n\\nAdversely affected persons assessment (sections 95B(8) and 95E) The following assessment addresses the adverse effects of the activity on the environment.\\nEffects that must be disregarded Effects on persons who are owners and occupiers of the land in, on or over which the application relates, or of land adjacent to that land Under section 95D the council is to disregard any effects on persons who own or occupy any adjacent land.\\nI consider that the adjacent land includes the following properties, and as shown on the location map in appendix G. The application is predominantly for a restricted discretionary application that meets the criteria of the AUP OP. The effects on these owners or occupiers have been disregarded.\\nIt is noted that the applicant is the owner and occupier of 22 Canberra Ave and that he gives approval to his application for 24 Canberra Ave.\\n\\nG:\\\\2019 WORK\\\\CANBERRA 24 Eric\\\\CONSENT 2\\\\S.92\\\\Oct 2020 AEE Revised\\\\7502 - 24 Canberra Rd - LUC & SUB RC application\\n\\nrevision.docx\\n\\n9\\n\\n24 Canberra Avenue, Lynfield Resource Consent Application\\n\\nAddress (see air photo above)\\n\\n22 Canberra Ave to the north 26 & 26A Canberra Ave to the south 35 & 37 Canberra Ave to the to the west, across the road.\\nWattle Bay Reserve to the rear and east.\\n\\nEffects that may be disregarded.\\nPermitted baseline\\n\\nThe subdivision generally meets the relevant plan rules that require approval from Council with the exception of those listed.\\nOtherwise permitted baseline effects are not applicable.\\n\\nPersons who have given their written approval\\n\\nIn this case, written approval has not been obtained from neighbours, and any effect on these persons is deemed to be less than minor, this with the exception of the site to the north where the height in relation to boundary rules are infringed and where the applicant is also the owner/occupier of that site and gives his approval:\\n\\nNo persons are considered to be adversely affected by the activities because:\\n\\nThe only physical works associated with the proposal are to establish the required servicing.\\n\\nThese will be undertaken to meet the permitted standards, and in accordance with other necessary approvals.\\n\\nThe proposed subdivision design and layout will not adversely affect any persons as the site will be subdivided in four.\\n\\nThe proposal is not located in or has any impact on land or a resource contained in any statutory acknowledgment area.\\n\\nAfter an analysis of the application, adverse effects of the activity on the environment have been identified.\\nThe assessment examines the rules and how they apply to the proposal; these are set out and discussed below.\\n\\nStep 4: further notification in special circumstances In addition to the findings of the previous steps, the council is also required to determine whether special circumstances exist in relation to the application that warrant it being notified to any other persons not already determined as eligible for limited notification.\\n\\nG:\\\\2019 WORK\\\\CANBERRA 24 Eric\\\\CONSENT 2\\\\S.92\\\\Oct 2020 AEE Revised\\\\7502 - 24 Canberra Rd - LUC & SUB RC application\\n\\nrevision.docx\\n\\n10\\n\\n24 Canberra Avenue, Lynfield Resource Consent Application\\n\\nSpecial circumstances are those that are:\\n\\n* Exceptional, abnormal or unusual, but something less than extraordinary or unique; * outside of the common run of applications of this nature; or * circumstances which make limited notification to any other person desirable, notwithstanding the conclusion that no other person has been considered eligible.\\nIn this instance I have turned my mind specifically to the existence of any special circumstances under s95B(10) and conclude that there is nothing exceptional or unusual about the application, and that the proposal has nothing out of the ordinary run of things to suggest that notification to any other persons should occur.\\nThe construction of new dwellings on sites in this residentially zoned areas that are affected by the various development control infringements are seen as less than minor due to the site configuration which includes the access strip along the southern boundary and that the general public when looking from the street would see no discernible difference between this and adjoining permitted and complying sites.\\nThe added advantage of the strip is also a positive amenity for the site\\'s occupants.\\n\\nLimited notification conclusion Having undertaken the s95B limited notification tests, the following conclusions are reached:\\n\\n* Under step 1, limited notification is not mandatory.\\n* Under step 2, there is no rule orNES that specifically precludes limited notification of the activities, and the application is for an activity other than those specified in s95B(6)(b).\\n* Under step 3, limited notification is not required as it is considered that the activity will not result in any adversely affected persons.\\n* Under step 4, there are no special circumstances that warrant the application being limited notified to any persons.\\nIt is therefore recommended that this application be processed without limited notification\\n\\nAssessment Receiving environment The receiving environment beyond the subject site includes permitted activities under the relevant plans, lawfully established activities (via existing use rights or resource consent), and any unimplemented resource consents that are likely to be implemented.\\nThe effects of any unimplemented consents on the subject site that are likely to be implemented (and which are not being replaced by the current proposal) also form part of this reasonably foreseeable receiving environment.\\nThis is the environment within which the adverse effects of this application must be assessed.\\nThe subject site and surrounding residential area are situated within the Mixed Housing Suburban zone under the AUP OP. Low to medium density residential activity is provided for in this zone.\\nIt is noted that there are no unimplemented resource consents granted for the subject site.\\nAdverse effects. E38.\\nSubdivision Urban The Subdivision of land under the Auckland Unitary Plan objective is to achieve the objectives of the different zones in a manner that provides for the long-term needs of the community.\\nTo design the subdivision layout that is safe, efficient, convenient and accessible.\\nProposed Activity The proposed activity is in table E38.4.2 as a Subdivision in accordance with an approved land use resource consent complying with Standard E38.8.2.1.\\nThis is a Restricted Discretionary Activity.\\nWe believe the proposed subdivision is an acceptable level of subdivision as proposed by the Auckland Unitary Plan.\\nAll of the standards set out by chapter E38 Subdivision have been adhered to and the development has been designed around these standards.\\n\\nG:\\\\2019 WORK\\\\CANBERRA 24 Eric\\\\CONSENT 2\\\\S.92\\\\Oct 2020 AEE Revised\\\\7502 - 24 Canberra Rd - LUC & SUB RC application\\n\\nrevision.docx\\n\\n11\\n\\n24 Canberra Avenue, Lynfield Resource Consent Application\\n\\nAs per Standard E38.8.2.1 we have addressed the E38.6 General Standards for subdivision, E38.8.1 General Standards in residential zones and E38.8.2 Standards - restricted discretionary activities.\\n\\nE38.6 General Standards for subdivisions Site Size and Shape The proposal meets the standard as it is in accordance with an approved land use resource consent.\\nAccess and entrance strips As outlined directly above it is proposed to have a gradient of 1:6.8 sloping down to the road and as shown on engineering plans in appendix D. This gradient has had to exceed this standard due to the rising topography of the site adjacent to the street.\\nThere is an existing waste water manhole within the proposed driveway area and in order to keep the levels the same and avoid the necessity for additional drainage work on Councils infrastructure it has been proposed that the levels for the driveway remain the same as the manhole lid-level.\\nThe proposed design is the best design as per the site topography and layout.\\nIt is the best fit, to limit the amount of earthworks through this part of the site and still provides ease of access into the dwellings once a vehicle is on the site.\\nWe further note that the access is on the downward slope to the carriageway and therefore still allows for adequate clearance & sightlines exiting the site.\\nIt is this aspect and this alone which makes the application discretionary.\\nThe overall adverse effects are no more than minor with the positive benefit of retaining the existing waste water line manhole at its present level.\\nServices For all of the services, Stormwater, wastewater and utilities please refer to the Appendix C. Staging It is not proposed that the subdivision be staged.\\nOverland Flow Paths We have investigated the property for overland flood paths by viewing the GIS viewer, performing a site visit and speaking to the current owner and can conclude that no overland flow path or flooding has been identified on the property.\\nExisting Vegetation on the site There is no significant vegetation within the site that has been identified.\\n\\nE38.8.1 General Standards in residential zones Site shape factor in residential zones The access and manoeuvring meet the requirements of E27 transport as described in the plans & the exception above.\\nSubsection 2 is not relevant in this case as we are not performing a vacant site development.\\nAccess to rear sites The Common Access Way design (Appendix D) shows the proposed layout of the site.\\nAccess for all new Lots will use a new proposed access from Canberra Ave, shown as areas A, B C, D, E, F and G. The access way meets the requirements of E38.8.1.2.1.\\nThe proposed access to the rear sites is proposed with a maximum legal width equal or greater than 3.5m and the formed width equal or greater than 3.0m.\\nThe length of the access way is 40.29m.\\n\\nE38.8.2 Standards - Residential restricted discretionary activities: Subdivision in accordance with an approved land use resource consent As per this standard our subdivision will comply with the Land Use Consent applied for in combination with this Subdivision.\\nSuitable access is provided to each lot, the proposed servicing connections are acceptable and there are no known development constraints for water supply and wastewater servicing.\\n\\nG:\\\\2019 WORK\\\\CANBERRA 24 Eric\\\\CONSENT 2\\\\S.92\\\\Oct 2020 AEE Revised\\\\7502 - 24 Canberra Rd - LUC & SUB RC application\\n\\nrevision.docx\\n\\n12\\n\\n24 Canberra Avenue, Lynfield Resource Consent Application\\n\\nIt is considered that the proposed layout is consistent with the general pattern of development in the surrounding environment, and is as anticipated for the zone.\\nOverall, the subdivision design and layout will not adversely affect the wider environment.\\n\\nRule E10.4.1 (A3) Stormwater management (SMAC Hillsborough 1, Flow 2) This aspect is fully covered in the engineering report in appendix E and I fully concur with the findings and recommendations within the report.\\nThe appendix forms part of this report.\\n\\nRule E12.4.1 (A) Earthworks Earthworks of over 500m\\xc2\\xb2 and up to 1000m\\xc2\\xb2 and of 250-1000m\\xc2\\xb3 are a restricted discretionary activity within this residential zone.\\nThe proposal is as shown on the plans with each lot stepping down to the road from the rear and with retained areas for building platforms and the driveway.\\nAs with many subdivisions of this nature the whole site will be disturbed with the earthworks.\\nThe plans in Appendix H shows the sediment & silt control measures to be taken and this is in accordance with Council guidelines.\\nThe areas and volumes are as follows; The proposed land disturbance on the site involves an area of 796m2 and volume of 331m3 of earthworks over the property for the removal of the topsoil and cut/fill in order to construct the dwellings, driveway areas and landscaping.\\nEarthworks plan is in Appendix H. The works are in accordance with the assessment criteria E12.8.2 (1) a-m and we note the following; The proposed earthworks are required to allow for building platforms and access on the site.\\nWhere appropriate the applicant will utilise Council methods of containing silt, sediment or contaminants entering the Council\\'s storm water pipes, drains, channels, and soakage systems.\\nSome of the earth will be used as cut and fill for engineering and landscaping within the site.\\nAll as shown on the Earthworks Plan.\\nThe applicant needs to obtain practical building sites, access, and install engineering services to the site for the development.\\nThere are no alternative methods available to the applicant in the achievement of their objectives and policies.\\nThe proposal complies with the zone\\'s objectives and policies in relation to earthworks for this size of development.\\n\\nRule E27.6.4.4.1 (T 157) The engineering requirements to maintain existing drainage lid levels for the existing manhole have resulted in the first 4m of the driveway at the road entrance being steeper than the ideal under Rule E27.6.4.4.1 (T157) & E27.6.4.4.3 where we now propose a 14.7% gradient down the centre of the drive to the road and a gradient of 1:6.8 as shown in appendix D. The gradient slopes down to the road and vehicles can still stop safely and easily check for pedestrians before continuing with the movement.\\nSight lines are good and the road is straight and visibility is good at this point in Canberra Avenue.\\nIn terms of E27.8.1 (9) the criteria is as follows; \"any activity or development which infringes the standards for design of parking and loading areas or access under Standards E27.6.3, E27.6.4.2, E27.6.4.3 and E27.6.4.4: (a) adequacy for the site and the proposal; (b) design of parking, loading and access; (c) effects on pedestrian and streetscape amenity; and (d) effects on the transport network.\" We note that the criteria are met by the proposal for the reasons outlined above.\\n\\nG:\\\\2019 WORK\\\\CANBERRA 24 Eric\\\\CONSENT 2\\\\S.92\\\\Oct 2020 AEE Revised\\\\7502 - 24 Canberra Rd - LUC & SUB RC application\\n\\nrevision.docx\\n\\n13\\n\\n24 Canberra Avenue, Lynfield Resource Consent Application\\n\\nRule H4.4.1 (A4) & (A33) Construction of four houses This aspect is a restricted controlled activity and is generally discussed in greater detail below.\\nThe listed criteria under H4.8.1 (2a-c) & H4.8.2 (2a-i) are met by the proposal with the exceptions as described below.\\nThe assessment criteria of H4.8.2(2) is required for the following; (i) H4.6.8 Maximum Impervious where 65.8% or 55m2 over is proposed rather than the required 60% (iv) H4.6.11 Outlook Space for lots 2-4 where it partly projects onto the neighbours site at 22 Canberra Ave (vi) H4.6.13 Outdoor Living Space for lot 1 is 17.8m2 rather than the 20m2 required (vii) H4.6.14 Part of the front fence is proposed at 1.8m high rather than the 1.4m hight which is required.\\n\\nRule H4.6.8 Maximum Impervious Area & H4.8.2(2) (i) As shown on the architects table on RC-A-01 & site area calculations on sheet RC-A-16 Lots 2-3 and are over the 60% limit by 65.8% or 5.8% or 55m\\xc2\\xb2.\\nWe have a complimentary drainage engineering report that shows no particular problems with stormwater management for the site (with the mitigation proposed) and the site has been architecturally designed to meet the relevant criteria for this and other rules as closely as possible.\\nThe paved areas are limited as much as is possible and the landscaping requirements of each site and the total is fully met and exceeded by the development.\\nThe building coverage has been reduced from the original design and is calculated at 34% for the total site.\\nOverall, the design and appearance of the proposal maintains and enhances the amenity values of the immediate neighbourhood in line with the relevant criteria for the rules.\\n\\nRule H4.6.11 Outlook Space & H4.8.2(2) (iv) As shown on the plans RC-A-03 the outlook envelops are not fully met for the living areas of Lots 2-4 it strays slightly onto the northern neighbour\\'s site by approximately 0.45m (an arm\\'s length).\\nThe remaining master bedroom outlooks are met by the proposal for each of the houses.\\nThe reason for the non-compliance is due to the provision of the pedestrian access each of the houses have to the park along the southern boundary.\\nThe fact of its provision has resulted in the houses having to be designed within a smaller area.\\nThe provision of the access was at the owners planning consultants request after the design had been presented and completed to the owner\\'s design specifications in line with the economic viability of the site and the need for this size of house for the market.\\nThe provision of the park access for the houses outweighs the small non-compliance created by the living room outlook.\\nEach of the houses still has adequate outdoor space for their enjoyment and very usable deck areas that can be used year-round.\\n\\nRule H4.6.13 Outdoor Living Space & H4.8.2(2) (vi) The outdoor living space for Lot 1 is 17.8m\\xc2\\xb2 rather than the required 20m\\xc2\\xb2 although the minimum dimension can\\'t be met there is additional front yard area that is available for outdoor living plus another deck area to the north-east of 14m\\xc2\\xb2 which is accessible through the garage door.\\nThis fully mitigates for the 20m\\xc2\\xb2 requirement overall as there is 31.5m\\xc2\\xb2 available but in two places.\\n\\nRule H4.6.14 Fencing & H4.8.2(2) (vii) The fence height from the northern side boundary to the pedestrian gate is 1.8m and thereafter it is 1.4m high.\\nThe higher fence affords some additional degree of privacy for lot 1\\'s private open space and this is seen as the best possible outcome both for on-site amenity and general streetscape amenity as it helps create a diverse and more interesting streetscape.\\n\\nRule H4.8.2 (2) a-i The relevant criteria for four or more dwellings is as follows; (a) The relevant H4 development controls have been assessed above.\\n\\nG:\\\\2019 WORK\\\\CANBERRA 24 Eric\\\\CONSENT 2\\\\S.92\\\\Oct 2020 AEE Revised\\\\7502 - 24 Canberra Rd - LUC & SUB RC application\\n\\nrevision.docx\\n\\n14\\n\\n24 Canberra Avenue, Lynfield Resource Consent Application\\n\\n(b) The proposed development contributes to the variety of housing in the area and is in keeping with the surrounding housing stock.\\nIt is two levels & meets the setback controls and all other outward controls with the exception of those listed and for the reasons outlined.\\nThe developments infringements are not obvious and from the street view the development would look no different to other newly permitted developments in the area.\\n(c) Deleted (d) The front house has its door and main windows of the living area facing the street.\\nThe fencing is complimentary to the area and front yard landscaping is over 80%.\\nAccess from the street is via the driveway and the front house has its own access and letter box.\\nThere is no visual dominance to the street from the listed (vi) criteria.\\n(e) Sunlight access & privacy of the adjoining sites is reasonable with the non-complying height to boundary being to the direct south of the adjoining site at 22 Canberra which is fully owned and occupied by the applicant.\\nVisual dominance is no different to any fully permitted activity.\\n(f) The relevant criteria (i) to (iv) are met by the architect\\'s design and attention to this specific detail and general urban design criteria have been followed (g) As above.\\n(h) & (i) Infrastructure and servicing requirements for the site have been met or mitigated.\\nThis is detailed above and in the engineering plans and details in Appendix E.\\n\\nRule H4.6.5 Height in Relation to Boundary As shown on the architectural plans the general height in relation rule is infringed along the sites northern boundary for each of the houses.\\nThe vertical and horizontal dimension infringements are fully described on the revised plan elevations.\\nIn terms of the purpose of the rule, which is to reduce over-dominance, allow light and air circulation onto adjacent properties, maintain privacy, and allow sunlight to enter properties for solar receptors, there will be no more than a minor adverse effect as shown on the plans.\\nThis application will allow for dwellings to be added to the site and allow for greater flexibility and use of the residential site.\\n\\nRule H4.6.6 Alternative Height in Relation to Boundary The proposal generally meets the listed criteria for the Alternative height in relation to boundary rule in relation to; sunlight access, attractiveness to the street & overlooking and privacy.\\nIn this case the owner of the effected site next door at 22 Canberra Ave has given written approval to the development in full and as such no account has been taken of the possible effects on that site.\\nThis adjoining site will be developed in the near future with a similar subdivision and architecturally designed houses.\\nThe driveway for the development is to be located on the southern joint boundary and this all helps mitigate any potential effect on that future development.\\nThe site is also directly north from the subject site and therefore sunlight and daylight access to this site is not compromised by this proposal.\\nThe front door of lot 1 has direct and safe access from the street, Lot 1 has its living area at ground level and looks directly to the street.\\nThere is no adverse effect in terms of overlooking neighbours.\\nThe windows and open areas are either at a level that will cause no undue concern or the windows are light only windows.\\nThere is no aspect due to the design of the dwellings such that any effect would be no more than minor.\\nThe effect on urban character is mitigated as the front lots provide complying buildings (with the exception of the alternative height in relation to boundary rule) and a visual presence to the street which is expected in the MHS zone.\\n\\nG:\\\\2019 WORK\\\\CANBERRA 24 Eric\\\\CONSENT 2\\\\S.92\\\\Oct 2020 AEE Revised\\\\7502 - 24 Canberra Rd - LUC & SUB RC application\\n\\nrevision.docx\\n\\n15\\n\\n24 Canberra Avenue, Lynfield Resource Consent Application\\n\\nSpecial circumstances and general discretion Special circumstances Special circumstances are those that are:\\n\\n* exceptional or unusual, but something less than extraordinary;\\n\\n* outside of the common run of applications of this nature; or\\n\\n* circumstances which makes notification desirable, notwithstanding the conclusion that the adverse effects will be no more than minor.\\nThere are no special circumstances and there is nothing exceptional or unusual about the application, and there is nothing to suggest that public notification should occur as:\\n\\n* The proposed subdivision is anticipated under the relevant plans and does not involve anything out of the ordinary in the context of a residential area.\\n\\n* There is no public interest in the proposal that I am aware of, or a legitimate expectation that this proposal will be publicly notified.\\n\\nTherefore, in this instance I conclude there are no special circumstances under s95A(4).\\nGeneral discretion I have also considered the residual discretion left under s95A(1), and whether the substantive decision making, in terms of achieving the sustainable management purpose of the RMA, would benefit from information brought about via public notification of this application.\\nI consider there is adequate information, and there is nothing about the specifics or issues of the proposed activity that warrants exercise of any residual discretion under s95A(1) for public notification to better inform substantive decision making in achieving the purpose of the RMA. Public notification conclusion This application can be processed without public notification for the following reasons:\\n\\n* The subdivision layout is consistent with those in the surrounding area, and servicing and vehicle access can be provided to each site.\\nEach new lot can be developed in the future to accommodate a residential activity.\\n\\n* There are no special circumstances to warrant notification as there is nothing exceptional, unusual, or out of the ordinary run of things for proposed activities of this type.\\n\\n* No reasons exist to exercise the general discretion under s95A(1).\\nIn summary, it is considered that the activity will have or is likely to have adverse effects on the environment that are less than minor, and that there are no special circumstances nor reasons to exercise the general discretion.\\nTherefore, it is recommended that this application be processed without public notification.\\n\\nLimited notification assessment (sections 95B, 95E-95G) If the application is not publicly notified the council must decide if there are any affected persons, or customary rights or title groups.\\nThese persons must then be notified.\\nThere are no rules that preclude limited notification.\\nIn deciding if a person is affected:\\n\\n* A person is affected if the adverse effects of the activity on that person are minor or more than minor (but not less than minor).\\n\\n* Adverse effects permitted by a rule in a plan (the permitted baseline) may be disregarded.\\n\\n* The adverse effects on those persons who have provided their written approval must be\\n\\nG:\\\\2019 WORK\\\\CANBERRA 24 Eric\\\\CONSENT 2\\\\S.92\\\\Oct 2020 AEE Revised\\\\7502 - 24 Canberra Rd - LUC & SUB RC application\\n\\nrevision.docx\\n\\n16\\n\\n24 Canberra Avenue, Lynfield Resource Consent Application\\n\\ndisregarded.\\n\\n* As a restricted discretionary activity only those effects on persons that fall within the matters for discretion restricted under the plan can be considered.\\n\\n* The council must have regard to any statutory acknowledgement under schedule 11.\\nWithin the Auckland region the following are relevant: o Te Uri o Hau Claims Settlement Act 2002 o Ng\\xc4\\x81ti Manuhiri Claims Settlement Act 2012 o Ng\\xc4\\x81ti Wh\\xc4\\x81tua \\xc5\\x8cr\\xc4\\x81kei Claims Settlement Act 2012 o Ng\\xc4\\x81ti Wh\\xc4\\x81tua o Kaipara Claims Settlement Act 2013 o Te Kawerau \\xc4\\x81 Maki Claims Settlement Act 2015\\n\\nAdversely affected persons assessment (section 95E) No persons are considered to be adversely affected by the activities because:\\n\\n* The only physical works associated with the proposal are to establish the required servicing.\\nThese will be undertaken to meet the permitted standards, and in accordance with other necessary approvals.\\n\\n* The proposed subdivision design and layout will not adversely affect any persons as the site will be subdivided in three only.\\n\\n* The proposal is not located in or has any impact on land or a resource contained in any statutory acknowledgment area.\\nTherefore, it is recommended that the application be processed without limited notification because there are no affected persons under s95E.\\n\\n4 assessment (section 104)\\n\\nStatutory Matters The Council is required to consider the application in relation to the purposes and the principles of the Resource Management Act, which are contained in sections 5-8 of the act inclusive.\\nThe proposed development will promote the sustainable management of natural resources and will ensure the continued and enhanced use of an existing resource, namely land.\\nThere are no significant ecosystems or environmental values on the site or within the area that would be compromised by the development.\\nConsideration has been given to the potential effects the development would have on the local neighbourhood.\\nIt is considered that there are no adverse effects on the surrounding environment.\\nOverall, the proposal is considered to be in accordance with the purpose and principles of the Act With respect to section 104(1)(a)(b) of the Act, the following matters are relevant: The proposal meets the sustainable management principles of the Act as contained in Part II; The proposal will not have more than a negligible environmental effect individually or collectively; Amenity values on and off site will be maintained by the development; The granting of consent will support the objectives and policies for the residential strategy in the Council\\'s AUP OP; An analysis of the relevant provisions of the Plan has been undertaken and is outlined above in part 4 of this report.\\nAny Actual or Potential Effects on the Environment of the Activity It has determined that there will be no adverse effects external to the site.\\nThe proposal is accordance with the Residential Mixed Housing Suburban zone\\'s subdivision & development rules.\\nPositive environmental effects will arise from this development in that the site will contain increased residential activity.\\nThe site will be\\n\\nG:\\\\2019 WORK\\\\CANBERRA 24 Eric\\\\CONSENT 2\\\\S.92\\\\Oct 2020 AEE Revised\\\\7502 - 24 Canberra Rd - LUC & SUB RC application\\n\\nrevision.docx\\n\\n17\\n\\n24 Canberra Avenue, Lynfield Resource Consent Application\\n\\ndeveloped generally in compliance with the development rules.\\nAny infringements of the development rules or consents required would be for infringements that will have no more than minor adverse environmental effects.\\n\\nObjectives and Policies, Rules and Other Provisions of the Operative District Plan All of the relevant criteria of the Plan are fully complied with.\\nThe proposal is consistent with or gives effect to the relevant objectives and policies of the resource management strategy for residential activities.\\nOverall Section 104 Assessment There are no aspects of this proposal of such adversity, which warrant the consideration of refusal of this proposal.\\nPotential negative elements are minor in extent and effects, will be temporary and where necessary, have been adequately mitigated.\\nWhen all matters set out in S.104 are weighed in the balance this activity that is specifically recognised and provided for on the subject site will be positive and beneficial in resource management terms.\\n\\nActual and Potential Effects on the Environment (section 104(1)(a))\\n\\nAs discussed in part 4 above the overall adverse effects are either mitigated or off set by conditions of consent or that the relevant criteria are not compromised by the proposal.\\nThe four-lot subdivision (existing house to be removed) fully meets the development control rules or as listed above.\\n\\nAUP OP and any Relevant Statutory Documents (section 104(1)(b))\\n\\nObjectives and policies of the Plan The proposal is consistent with the objectives and policies as the area can sustain further development in terms of drainage capability and from a wider infrastructural view point in terms of transportation and being close to areas of employment and open space areas.\\nAt the same time amenity is maintained by the development proposal in terms of streetscape amenity and on- site amenity requirements are well catered for.\\n\\nPart II & Other Matters (section 104(1) ( c))\\n\\nThere are no aspects of this proposal of such adversity, which warrant the consideration of refusal of this proposal.\\n\\nPotential negative elements are minor in extent and where necessary have been adequately mitigated.\\nWhen all matters set out in S.104 are weighed in the balance this activity will be positive and beneficial in resource management terms.\\n\\n5 CONCLUSION\\n\\nThe applicant proposes a subdivision of the underlying site where the subdivision will create fee simple titles.\\nThe creation of the subdivision and proposed dwellings creates a positive outcome for the local community as an additional house can be accommodated on the site.\\nUnder the AUP OP the site is zoned Residential Mixed Housing Suburban.\\nResource Consent is required for the following reasons.\\n\\n* Rule H4.4.1 (A4) Where four or more dwellings per site require a restricted discretionary activity assessment.\\nWhere Rule H4.6.5 Height in Relation to Boundary and Rule H.6.6.6 Alternative height in relation boundary are not met.\\nWhere under the relevant assessment criteria of H4.8.2 (2) the additional rules outlined below are assessed;\\n\\n5. Rule H4.6.8 Maximum Impervious Area where the total site is 65.8% or over by 55m\\xc2\\xb2.\\n\\nG:\\\\2019 WORK\\\\CANBERRA 24 Eric\\\\CONSENT 2\\\\S.92\\\\Oct 2020 AEE Revised\\\\7502 - 24 Canberra Rd - LUC & SUB RC application\\n\\nrevision.docx\\n\\n18\\n\\n*\\n\\n*\\n\\n*\\n\\n*\\n\\n*\\n\\n* *\\n\\n24 Canberra Avenue, Lynfield Resource Consent Application\\n\\n6. Rule H4.6.11 Outlook is infringed for the principal living rooms for lots 2 & 3 where there is a partial building obstruction and then for lots 2-4 where the outlook area projects into the side neighbours site at 22 Canberra Ave.\\n7. Rule H4.6.13 Outdoor Living Space for lot 1 is 17.8m\\xc2\\xb2 rather the 20m\\xc2\\xb2 required.\\n8. Rule H4.6.13 Fencing in part of the front yard is 1.8m high rather than the 1.4m required.\\nThis requires a restricted discretionary assessment.\\n\\nRule H4.8.2 94) a-d Height in relation to boundary along the southern boundary with 22 Canberra Ave.\\nThis requires a restricted discretionary activity assessment.\\nRule H4.6.7 (1) Yards where a front deck handrail is 1.97m high in the front yard and an inground 0.6m retaining wall is within 0.5m of the rear boundary where it adjoins an Open Space zone.\\nThis requires a restricted discretionary activity assessment.\\nRule E10.4.1 (A3) Stormwater Drainage is affected as the site is within a Stormwater Management Area Control Hillsborough 1, Flow 2.\\nThis requires a restricted discretionary activity assessment.\\nRule E12.4.1 (A3) & (A7) Earthworks is infringed and is over the permitted 500m\\xc2\\xb2 for the area but less than 1000m\\xc2\\xb2 and over the 250m\\xc2\\xb3 but less than the 1000m\\xc2\\xb3.\\nThis requires a restricted discretionary activity assessment.\\nRule E27.6.4.4.1(T157) (3) Access is infringed where; Gradient of vehicle access (1) the gradient of the access must not be steeper than specified in Table E27.64.4.1 Gradient of vehicle access(T157) Figure E27.6.4.4.3 Gradient transition.\\nThis requires a restricted discretionary activity assessment.\\nRule E38.8.2.2 where subdivision is around existing or approved buildings on proposed lot 1- 4.\\nThis requires a discretionary activity assessment as rule E27.6.4.4.1(T157) (3) is infringed.\\nRule E38.4.2 (A14) & E38.8.2.1 Subdivision requires a restricted discretionary assessment.\\n\\nOverall, the land use proposal is a restricted discretionary activity.\\nWe note that the site contains one existing house and that the application replaces this house and makes provision for three additional new houses.\\nOne additional house can be built as of right and therefore the \"four or more\" rule is only triggered as the application is combined as only three additional new houses are being proposed for the site and an existing one is being replaced thus being four in total.\\n\\nThe proposal meets the listed criteria for consent under the AUP OP. It is concluded that the proposal will support the objectives and policies of the Residential Mixed Housing Suburban zone and will have no more than a minor adverse environmental effect.\\nThe proposal meets the legal criteria of Section 104 and 105 of the Act.\\n\\n6 DISCLAIMER\\n\\nThis application has been prepared solely for, and is furnished to the Auckland Council and our client, Eric Xie, for their purposes only, on the express condition that it will not be relied upon by any other person.\\nNo liability is accepted by this firm or by any principal, director, or any servant or agent of this firm, in respect of its use by any other person, and any other person who relies upon any matter contained in this report does so entirely at its own risk.\\n\\nG:\\\\2019 WORK\\\\CANBERRA 24 Eric\\\\CONSENT 2\\\\S.92\\\\Oct 2020 AEE Revised\\\\7502 - 24 Canberra Rd - LUC & SUB RC application\\n\\nrevision.docx\\n\\n19\\n\\n24 Canberra Avenue, Lynfield Resource Consent Application\\n\\nAppendix A\\n\\nSite and Scheme Plan\\n\\nG:\\\\2019 WORK\\\\CANBERRA 24 Eric\\\\CONSENT 2\\\\S.92\\\\Oct 2020 AEE Revised\\\\7502 - 24 Canberra Rd - LUC & SUB RC application\\n\\nrevision.docx\\n\\n20\\n\\n24 Canberra Avenue, Lynfield Resource Consent Application\\n\\nAppendix B\\n\\nArchitects Plans\\n\\nG:\\\\2019 WORK\\\\CANBERRA 24 Eric\\\\CONSENT 2\\\\S.92\\\\Oct 2020 AEE Revised\\\\7502 - 24 Canberra Rd - LUC & SUB RC application\\n\\nrevision.docx\\n\\n21\\n\\n24 Canberra Avenue, Lynfield Resource Consent Application\\n\\nAppendix C\\n\\nDrainage Design\\n\\nG:\\\\2019 WORK\\\\CANBERRA 24 Eric\\\\CONSENT 2\\\\S.92\\\\Oct 2020 AEE Revised\\\\7502 - 24 Canberra Rd - LUC & SUB RC application\\n\\nrevision.docx\\n\\n22\\n\\n24 Canberra Avenue, Lynfield Resource Consent Application\\n\\nAppendix D\\n\\nRight of Way Design\\n\\nG:\\\\2019 WORK\\\\CANBERRA 24 Eric\\\\CONSENT 2\\\\S.92\\\\Oct 2020 AEE Revised\\\\7502 - 24 Canberra Rd - LUC & SUB RC application\\n\\nrevision.docx\\n\\n23\\n\\n24 Canberra Avenue, Lynfield Resource Consent Application\\n\\nAppendix E\\n\\nDetention Investigation Report\\n\\nG:\\\\2019 WORK\\\\CANBERRA 24 Eric\\\\CONSENT 2\\\\S.92\\\\Oct 2020 AEE Revised\\\\7502 - 24 Canberra Rd - LUC & SUB RC application\\n\\nrevision.docx\\n\\n24\\n\\n24 Canberra Avenue, Lynfield Resource Consent Application\\n\\nAppendix F\\n\\nRecord of Title\\n\\nG:\\\\2019 WORK\\\\CANBERRA 24 Eric\\\\CONSENT 2\\\\S.92\\\\Oct 2020 AEE Revised\\\\7502 - 24 Canberra Rd - LUC & SUB RC application\\n\\nrevision.docx\\n\\n25\\n\\n24 Canberra Avenue, Lynfield Resource Consent Application\\n\\nAppendix G\\n\\nSite Locality and Aerial Photography\\n\\nG:\\\\2019 WORK\\\\CANBERRA 24 Eric\\\\CONSENT 2\\\\S.92\\\\Oct 2020 AEE Revised\\\\7502 - 24 Canberra Rd - LUC & SUB RC application\\n\\nrevision.docx\\n\\n26\\n\\n24 Canberra Avenue, Lynfield Resource Consent Application\\n\\nAppendix H\\n\\nSilt and Sediment Plan\\n\\nG:\\\\2019 WORK\\\\CANBERRA 24 Eric\\\\CONSENT 2\\\\S.92\\\\Oct 2020 AEE Revised\\\\7502 - 24 Canberra Rd - LUC & SUB RC application\\n\\nrevision.docx\\n\\n27'\n",
      "Label : 1 (Assessment)\n",
      "Text: b'Waitakere City Council Te Taiao o Waitakere\\n\\n21 August 2007\\n\\nJ Dobrowolski 110 Paritai Drive Orakei AUCKLAND CITY\\n\\nWaitakere City Council Telephone DX CX 10250 Auckland Mail Centre Waitakere Central 09 836 8000 Email: info@waitakere.govt.nz 6 Henderson Valley Road\\n\\nHenderson\\' 0612\\n\\nPrivate Bag 93109 Henderson 0650 Waitakere\\n\\n24Hr Call Centre Website: www.waitakere.govt.nz 09 839 0400\\n\\nFacsimile 09 836 8001\\n\\nRefer: Eryn Shields: City Services Phone No: 836 8000: ext 8624\\n\\nDear Sir\\n\\nRE: 4 BINSTED ROAD AND NOTICE OF OBJECTION TO FEES FOR RESOURCE CONSENT RMA 20064171 AND 20064201\\n\\nI refer to your electronic mail dated 6 June 2007 in which you object to the fees of RMA 20020280, and my letter to you dated 20 June 2007.\\n\\nYour objection has been considered and I wish to advise you of the following.\\n\\nThe matter of the Team Leader Consult fee of $1274 was left unresolved in the 20 June 2007 letter, as the Team Leader involved in this resource consent was overseas.\\nIt is considered that the amount of time utilised by the Team Leader in terms of this application is appropriate.\\nIt is usual for these types of applications to take between 20-25 hours. of time for the preparation of the report.\\nIn this case, the staff member processing the resource consent shared the preparation of the report with the.\\nTeam Leader, and so the combined fees for these two staff members is appropriate.\\n\\nDECISION\\n\\nBased on the reasons set out in this letter, Council makes the following decision in relation to the Section 357 objection toRMA 20064171 and 20064201.\\nYour objection to the Team leader Consult for is not upheld, for the reasons provided in this letter.\\n\\nThis decision is made by the undersigned acting under delegated authority pursuant to Section 34A of the Resource Management Act 1991.\\n\\nPlease contact the writer for any further queries.\\n\\nYours faithfully\\n\\nEryn Shields Principal Planner: Resource Management\\n\\nTime/Cost Sheet - Combined Non-Notified Resource Consents\\n\\nRMA No: LUC 20064171 & SUB20064201 ADDRESS: 4 Binsted Road, New Lynn APPLICANT: John Bobrowolski\\n\\nPROPOSAL: Undertake a Two Lot Residential Subdivision & Construct a new dwelling at 4 Binstead Road\\n\\nO\\n\\nGems Time - Code                                            -Skate Per Hr   SC\\xc3\\x96St     \\xc2\\xafSCost External\\nCounter - Planner D.Makani II .05                                                                    \\nTeam Leader Time IRP                                                                                 \\nAdmin Logging On 10.4                                                                                \\nPre logement meeting                                                                                 \\nApplication Research                                                                                 \\nApplication Review 15                                                       585.001                  \\nISite Visit 11.                                                                                      \\nFurther Information 13                                                      351.ool                  \\nExtra Site Visits                                                                                    \\nAnalysis/lnternal Discussions                                                                        \\n[Client Queries/Correspondence                                                                       \\nReport Preparation                                                          1579.50                  \\nVeer Review/Decision                                                                                 \\nTeam Leader Consult 19.3                                    137.001                                  \\nAdministration IC.Fabian-Lovett 7                                           623.001                  \\n[Section 37 Uplift                                                                                   \\nIAdmin (Decision) Tech Clerk [ 175                                                                   \\nISubdivisions admin                                         89.001                                   \\nBoth subdivision and landuse deposits I Deposit I Balance                             1$5,996.00 |   \\nMonitoring fee is not deductable from processing costs      Monitoring      Feels                    \\n                                                            IBalance                                 \\n[Iwi Consultation Fee                                                                 12.00          \\nEcowater IF. Craddock                                                                 42.00          \\n[EcoWater Is.Rankin 13.4                                                              428.40 |       \\nEopying Fees                                                                                         \\nIJ.Carroll 11.5                                                                                      \\nArborist / Ecologist                                                                                 \\n10ther Consultation                                                                                  \\n10ther Consultation                                                                                  \\nBond/s                                                                                               \\nI Total Due                                                                           909.90 |       \\n\\nPre-anlication meetina?\\n\\nNo\\n\\nTo be charged on luc file To be charged on sub file Total\\n\\n909.90 909.90\\n\\nWaitakere City Council Te Taiao o Waitakere\\n\\n20 June 2007\\n\\nJ Dobrowolski 110 Paritai Drive Orakei AUCKLAND CITY\\n\\nDear Sir\\n\\nWaitakere City Council Waitakere Central 6 Henderson Valley Road Henderson 0612\\n\\nPrivate Bag 93109 Henderson 0650\\n\\nWaitakere\\n\\nTelephone DX CX 10250 Auckland Mail Centre 09 836 8000 Email: info@waitakere.govt.nz\\n\\n24Hr Call Centre Website: www.waitakere.govt.nz 09 839 0400\\n\\nFacsimile 09 836 8001\\n\\nRefer: Eryn Shields: City Services Phone No: 836 8000: ext 8624\\n\\nRE: 4 BINSTED ROAD AND NOTICE OF OBJECTION TO CONDITION OF RESOURCE CONSENT RM\\xc3\\x84 20064171 AND 20064201\\n\\nI refer to your electronic mail dated 2 October 2007 in which you object to Condition I(b) of o the Section 223 Requirements associated with RMA 20064201.\\n\\nYour objection has been considered and I wish to advise you of the following.\\n\\nI understand that following an agreement between yourself and Council engineers, the necessity for an easement was determined to be no longer necessary in terms of this subdivision consent.\\n\\nThis matter was conveyed to you (or your representatives on 21 September 2007, in an e- mail from Brett Disley, as follows:\\n\\nThe southern boundary drainage easement is no longer required by EcoWater.\\nAll upstream and adjacent properties have options for development and connection to the public wastewater nemork without this.\\n\\nFuture stormwater may be an issue but was not part of this consent consideration.\\n\\nThis decision originated from a Council decision, and to address this matter Condition 1 (b).\\nO DECISION\\n\\nBased on the reasons set out in this letter, Council makes the following decision in relation to the Section 357 objection toRMA 20064201.\\n\\nThe objection to Condition I(b) is upheld and the Condition is amended as follows.\\n\\nl: SECTION 223 REQUIREMENTS\\n\\nA survey plan of the subdivision will be approved pursuant to Section 223 of the Act provided that the survey plan signing fee has been paid and that the following conditions have been complied with to the satisfaction of Council.\\n\\n(a) The survey plan shall be in accordance with the plans titled \"Proposed Subdivision of Lot 11 DP 37922\" Drawing No.. 123846-100 prepared by Harrison Grierson and dated 11/06 all referenced by Council as LUC20064171/SUB20064201.\\n\\ninr*l*\\n\\nO OQ\\n\\n\\'Mill vvuuu\\n\\nh_Drinr\\n\\nfnr\\n\\nTake note that street numbers for the lots on the survey plan will be allocated by Council subsequent to Section 223 approval, and these numbers must be used for future applicants for building consent.\\nA copy of the survey plan with the Council allocated numbers will be provided.\\n\\nThis decision is made by the undersigned acting under delegated authority pursuant to Section 34A of the Resource Management Act 1991.\\n\\nPlease contact the writer for any further queries.\\n\\nYours faithfully\\n\\nEryn Shields Principal Planner: Resource Management\\n\\nWaitakere City Council Telephone\\' DX CX 10250 Auckland Mail Centre Waitakere City Council Waitakere Central 09 836 8000 Email: info@waitakere.govt.nz 6 Henderson Valley Road Te Taiao o Waitakere\\n\\nHenderson 0612\\n\\nPrivate Bag 93109 Henderson 0650 Waitakere\\n\\n24Hr Call Centre Website: www.waitakere.govt.nz 09 839 0400\\n\\nFacsimile 09 836 8001\\n\\nRefer: Eryn Shields: City Services Phone No: 836 8000: ext 8624\\n\\n20 June 2007\\n\\nJ Dobrowolski 110 Paritai Drive Orakei AUCKLAND CITY\\n\\nDear Sir\\n\\nRE*. 4 BINSTED ROAD AND NOTICE OF OBJECTION TO FEES FOR RESOURCE CONSENT RMA 20064171 AND 20064201\\n\\nI refer to your electronic mail dated 6 June 2007 in which you object to the fees of RMA O 20020280.\\n\\nYour objection has been considered and I wish to advise you of the following.\\n\\nYou raise concern regarding difference between the amount of fees that you have already paid, and the additional fees associated with specialist input.\\nI am advised that you have paid $6,668.00, and the full cost of processing the resource consents was $6,684.12.\\nThe Council will waive the difference between the amount paid and the amount levied (which amounts to $16.12).\\nEssentially the specialist fees associated with the processing of this resource consent application have been covered by the amount you have already paid.\\n\\nIn terms of your objection to the administration costs, these costs are split into three portions.\\nThe administration cost of $623.00 covers the costs associated with the limited notification and advertising of your application, and the associated administration arrangements.\\nThis amount is a reasonable reflection of that task.\\n\\nThe general administration and subdivision administration fees are clearly separate and relate to the land use consent and the subdivision consent respectively, and each amount is a reasonable reflection of the administration of those tasks.\\n\\no\\n\\nIn terms of the Team Leader Consult fee of $1274, the Team leader involved in this resource consent is overseas at present, attending to family matters.\\nI will discuss this fee with him when he returns.\\nIf the amount of this fee is to be reduced, the Council will refund you the appropriate amount.\\n\\nDECISION\\n\\nBased on the reasons set out in this letter, Council makes the following decision in relation to the Section 357 objection toRMA 20064171 AND 20064201\\n\\nThe objection to the fees is upheld and a waiver in fees of $16.12 is recommended.\\nThe unutilised base fee will be used to meet the costs associated with specialist input into the processing of the applications.\\n\\nThe objection to the administration fees is not upheld, and the allocated fees will remain.\\n\\nThe objection to the Team Leader consult fees are on hold, pending further consideration by the Council once the relevant staff are available to review this matter.\\n\\nThis decision is made by the undersigned acting under delegated authority pursuant to Section 34A of the Resource Management Act 1991.\\n\\nPlease contact the writer for any further queries.\\n\\nYours faithfully\\n\\nEryn Shields Principal Planner: Resource Management\\n\\no\\n\\nCR\\xc3\\x89 \\xe2\\x98\\x92 T NOTE\\n\\nWaitakere Central Waitakere City Council Telephone Waitakere City Council 6 Henderson Valley Rd Private Bag 93109 09 839 0400 Te Taiao o Waitakere Henderson 0612 Henderson 0650\\n\\nWaitakere\\n\\nWaitakere\\n\\nGST Registration Number 52-211-247\\n\\nJ C Dobrowolski 110 Paritai Drive Orakei AUCKLAND 1071\\n\\nDate: Customer No: Credit Note No:\\n\\n25 June 2007 301612 502259\\n\\nApplication Location: 4 Binsted Road, NEW LYNN\\n\\nApplication: LUC-2006-4171\\n\\nl\\xc2\\xafFee Code L Transaction Description Non Notified Land Use Consent Fee\\n\\nAmount I -909.90\\n\\nO\\n\\noP/Jdo\\n\\ncudd a\" p/ Ol(/\\xc3\\x85ca} loured/ 04eo\\xc3\\xa5/\\n\\nO This account includes a total GST content of -101.10\\n\\nCredit Note Total\\n\\n-909.90\\n\\nRemittance Advice : (Please Detach and return with payment)\\n\\nWaitakere Central Waitakere City Council Telephone Waitakere City Council 6 Henderson Valley Rd Private Bag 93109 09 839 0400 Te Taiao o Waitakere Henderson 0612 Henderson 0650\\n\\nWaitakere\\n\\nWaitakere\\n\\nCredit Note Date:     25 June 2007      Application:         DAP    \\nCredit Note Number:   502259            Debtor Number:       301612 \\nName:                 J C Dobrowolski   Payment Reference:   261954 \\nApplication:          LUC-2006-4171     Credit Note Total:   -909.90\\n\\nWaitakere City Council Telephone DX CX 10250 Auckland Mail Centre Waitakere City Council Waitakere Central 09 836 8000 Email: info@waitakere.govt.nz 6 Henderson Valley Road Te Taiao o Waitakere\\n\\nHenderson 0612\\n\\nPrivate Bag 93109 Henderson 0650 Waitakere\\n\\n24Hr Call Centre Website: www.waitakere.govt.nz 09 839 0400\\n\\nFacsimile 09 836 8001\\n\\n28 May 2007\\n\\nJOHN CHARLES DOBROWOLSKI C/- TREVOR BLYDE HARRISON GRIERSON PO BOX 276121 MANUKAU CITY MANUKAU 2241\\n\\nDear Sir/Madam\\n\\nRESOURCE CONSENT APPLICATION: LUC-2006-4171 O ADDRESS: 4 BINSTED ROAD, NEW LYNN\\n\\nThank you for your Resource consent application lodged with Council on the 22-Nov-2006.\\nThis consent is now ready to be issued.\\n\\nPayment of the additional fees and invoice(s) listed below and the collection of your Resource consent application are required within 14 days of this letter.\\nIf payment is made by cheque(s) to a value of more than $3,000.00, there will be a five working day clearance period before the consent is issued.\\n\\nThe following invoice(s) for processing the application is/are outstanding (GST invoice(s) enclosed):\\n\\nInvoice Number: 326774\\n\\nOutstanding Amount: $909.90\\n\\nNote that until payment is made and the consent picked up, no work is allowed to commence.\\n\\nYours faithfully\\n\\nGI Indyr Donaldson PROCESS SUPPORT ASSISTANT\\n\\n(Copy sent to owner)\\n\\n00497366.DOC\\n\\nGTDFEES\\n\\nTAX INVOICE\\n\\nWaitakere Central Waitakere City Council Telephone Waitakere City Council 6 Henderson Valley Rd Private Bag 93109 09 839 0400 Te Taiao o Waitakere Henderson 0612 Henderson 0650\\n\\nWaitakere\\n\\nWaitakere\\n\\nGST Registration Number 52-211-247\\n\\nJ C Dobrowolski 110 Paritai Drive Orakei AUCKLAND 1071\\n\\nDate: Customer No: Invoice No:\\n\\n28 May 2007 301612\\n\\n326774\\n\\nApplication Location: 4 Binsted Road, NEW LYNN\\n\\nApplication: LUC-2006-4171\\n\\nFee Code\\n\\nIWIBSE DEVPRO\\n\\nRDGPRO COPY\\n\\nI Transaction Description\\n\\nIwi Consultation Base Fee Drainage Engineer - Ecowater Processing Fee Roading and Traffic Processing Fee Copying Fees\\n\\nAmount I\\n\\n12.00 470.40\\n\\n216.00 211.50\\n\\nThis account includes a total GST content of 101.09\\n\\nInvoice Total\\n\\n909.90\\n\\n(Please Detach and return with payment)\\n\\nWaitakere Central Waitakere City Council Telephone Waitakere City Council 6 Henderson Valley Rd Private Bag 93109 09 839 0400 Te Taiao o Waitakere Henderson 0612 Henderson 0650\\n\\nWaitakere\\n\\nWaitakere\\n\\nInvoice Date:     28 May 2007       Application:         DAP   \\nInvoice Number:   326774            Debtor Number:       301612\\nName:             J C Dobrowolski   Payment Reference:   261954\\nApplication:      LUC-2006-4171     Invoice Total:       909.90'\n",
      "Label : 11 (Objection Submission)\n"
     ]
    }
   ],
   "source": [
    "#This is used to check your training data and labels\n",
    "for text_batch, label_batch in train_ds.take(1):\n",
    "  for i in range(2):\n",
    "    print(f'Text: {text_batch.numpy()[i]}')\n",
    "    label = label_batch.numpy()[i]\n",
    "    print(f'Label : {label} ({class_names[label]})')"
   ]
  },
  {
   "cell_type": "code",
   "execution_count": 9,
   "metadata": {
    "colab": {
     "base_uri": "https://localhost:8080/"
    },
    "id": "J9EjbFMPHENC",
    "outputId": "1236bcff-92f8-45e5-d500-6367524dc03d"
   },
   "outputs": [
    {
     "name": "stdout",
     "output_type": "stream",
     "text": [
      "BERT model selected           : https://tfhub.dev/tensorflow/small_bert/bert_en_uncased_L-4_H-512_A-8/1\n",
      "Preprocess model auto-selected: https://tfhub.dev/tensorflow/bert_en_uncased_preprocess/3\n"
     ]
    }
   ],
   "source": [
    "#define your bert model\n",
    "bert_model_name = 'small_bert/bert_en_uncased_L-4_H-512_A-8' \n",
    "\n",
    "#model name and respective urls are mapped below\n",
    "map_name_to_handle = {\n",
    "    'bert_en_uncased_L-12_H-768_A-12':\n",
    "        'https://tfhub.dev/tensorflow/bert_en_uncased_L-12_H-768_A-12/3',\n",
    "    'bert_en_cased_L-12_H-768_A-12':\n",
    "        'https://tfhub.dev/tensorflow/bert_en_cased_L-12_H-768_A-12/3',\n",
    "    'bert_multi_cased_L-12_H-768_A-12':\n",
    "        'https://tfhub.dev/tensorflow/bert_multi_cased_L-12_H-768_A-12/3',\n",
    "    'small_bert/bert_en_uncased_L-2_H-128_A-2':\n",
    "        'https://tfhub.dev/tensorflow/small_bert/bert_en_uncased_L-2_H-128_A-2/1',\n",
    "    'small_bert/bert_en_uncased_L-2_H-256_A-4':\n",
    "        'https://tfhub.dev/tensorflow/small_bert/bert_en_uncased_L-2_H-256_A-4/1',\n",
    "    'small_bert/bert_en_uncased_L-2_H-512_A-8':\n",
    "        'https://tfhub.dev/tensorflow/small_bert/bert_en_uncased_L-2_H-512_A-8/1',\n",
    "    'small_bert/bert_en_uncased_L-2_H-768_A-12':\n",
    "        'https://tfhub.dev/tensorflow/small_bert/bert_en_uncased_L-2_H-768_A-12/1',\n",
    "    'small_bert/bert_en_uncased_L-4_H-128_A-2':\n",
    "        'https://tfhub.dev/tensorflow/small_bert/bert_en_uncased_L-4_H-128_A-2/1',\n",
    "    'small_bert/bert_en_uncased_L-4_H-256_A-4':\n",
    "        'https://tfhub.dev/tensorflow/small_bert/bert_en_uncased_L-4_H-256_A-4/1',\n",
    "    'small_bert/bert_en_uncased_L-4_H-512_A-8':\n",
    "        'https://tfhub.dev/tensorflow/small_bert/bert_en_uncased_L-4_H-512_A-8/1',\n",
    "    'small_bert/bert_en_uncased_L-4_H-768_A-12':\n",
    "        'https://tfhub.dev/tensorflow/small_bert/bert_en_uncased_L-4_H-768_A-12/1',\n",
    "    'small_bert/bert_en_uncased_L-6_H-128_A-2':\n",
    "        'https://tfhub.dev/tensorflow/small_bert/bert_en_uncased_L-6_H-128_A-2/1',\n",
    "    'small_bert/bert_en_uncased_L-6_H-256_A-4':\n",
    "        'https://tfhub.dev/tensorflow/small_bert/bert_en_uncased_L-6_H-256_A-4/1',\n",
    "    'small_bert/bert_en_uncased_L-6_H-512_A-8':\n",
    "        'https://tfhub.dev/tensorflow/small_bert/bert_en_uncased_L-6_H-512_A-8/1',\n",
    "    'small_bert/bert_en_uncased_L-6_H-768_A-12':\n",
    "        'https://tfhub.dev/tensorflow/small_bert/bert_en_uncased_L-6_H-768_A-12/1',\n",
    "    'small_bert/bert_en_uncased_L-8_H-128_A-2':\n",
    "        'https://tfhub.dev/tensorflow/small_bert/bert_en_uncased_L-8_H-128_A-2/1',\n",
    "    'small_bert/bert_en_uncased_L-8_H-256_A-4':\n",
    "        'https://tfhub.dev/tensorflow/small_bert/bert_en_uncased_L-8_H-256_A-4/1',\n",
    "    'small_bert/bert_en_uncased_L-8_H-512_A-8':\n",
    "        'https://tfhub.dev/tensorflow/small_bert/bert_en_uncased_L-8_H-512_A-8/1',\n",
    "    'small_bert/bert_en_uncased_L-8_H-768_A-12':\n",
    "        'https://tfhub.dev/tensorflow/small_bert/bert_en_uncased_L-8_H-768_A-12/1',\n",
    "    'small_bert/bert_en_uncased_L-10_H-128_A-2':\n",
    "        'https://tfhub.dev/tensorflow/small_bert/bert_en_uncased_L-10_H-128_A-2/1',\n",
    "    'small_bert/bert_en_uncased_L-10_H-256_A-4':\n",
    "        'https://tfhub.dev/tensorflow/small_bert/bert_en_uncased_L-10_H-256_A-4/1',\n",
    "    'small_bert/bert_en_uncased_L-10_H-512_A-8':\n",
    "        'https://tfhub.dev/tensorflow/small_bert/bert_en_uncased_L-10_H-512_A-8/1',\n",
    "    'small_bert/bert_en_uncased_L-10_H-768_A-12':\n",
    "        'https://tfhub.dev/tensorflow/small_bert/bert_en_uncased_L-10_H-768_A-12/1',\n",
    "    'small_bert/bert_en_uncased_L-12_H-128_A-2':\n",
    "        'https://tfhub.dev/tensorflow/small_bert/bert_en_uncased_L-12_H-128_A-2/1',\n",
    "    'small_bert/bert_en_uncased_L-12_H-256_A-4':\n",
    "        'https://tfhub.dev/tensorflow/small_bert/bert_en_uncased_L-12_H-256_A-4/1',\n",
    "    'small_bert/bert_en_uncased_L-12_H-512_A-8':\n",
    "        'https://tfhub.dev/tensorflow/small_bert/bert_en_uncased_L-12_H-512_A-8/1',\n",
    "    'small_bert/bert_en_uncased_L-12_H-768_A-12':\n",
    "        'https://tfhub.dev/tensorflow/small_bert/bert_en_uncased_L-12_H-768_A-12/1',\n",
    "    'albert_en_base':\n",
    "        'https://tfhub.dev/tensorflow/albert_en_base/2',\n",
    "    'electra_small':\n",
    "        'https://tfhub.dev/google/electra_small/2',\n",
    "    'electra_base':\n",
    "        'https://tfhub.dev/google/electra_base/2',\n",
    "    'experts_pubmed':\n",
    "        'https://tfhub.dev/google/experts/bert/pubmed/2',\n",
    "    'experts_wiki_books':\n",
    "        'https://tfhub.dev/google/experts/bert/wiki_books/2',\n",
    "    'talking-heads_base':\n",
    "        'https://tfhub.dev/tensorflow/talkheads_ggelu_bert_en_base/1',\n",
    "}\n",
    "\n",
    "\n",
    "#model name and respective preprocessing models are mapped below\n",
    "map_model_to_preprocess = {\n",
    "    'bert_en_uncased_L-12_H-768_A-12':\n",
    "        'https://tfhub.dev/tensorflow/bert_en_uncased_preprocess/3',\n",
    "    'bert_en_cased_L-12_H-768_A-12':\n",
    "        'https://tfhub.dev/tensorflow/bert_en_cased_preprocess/3',\n",
    "    'small_bert/bert_en_uncased_L-2_H-128_A-2':\n",
    "        'https://tfhub.dev/tensorflow/bert_en_uncased_preprocess/3',\n",
    "    'small_bert/bert_en_uncased_L-2_H-256_A-4':\n",
    "        'https://tfhub.dev/tensorflow/bert_en_uncased_preprocess/3',\n",
    "    'small_bert/bert_en_uncased_L-2_H-512_A-8':\n",
    "        'https://tfhub.dev/tensorflow/bert_en_uncased_preprocess/3',\n",
    "    'small_bert/bert_en_uncased_L-2_H-768_A-12':\n",
    "        'https://tfhub.dev/tensorflow/bert_en_uncased_preprocess/3',\n",
    "    'small_bert/bert_en_uncased_L-4_H-128_A-2':\n",
    "        'https://tfhub.dev/tensorflow/bert_en_uncased_preprocess/3',\n",
    "    'small_bert/bert_en_uncased_L-4_H-256_A-4':\n",
    "        'https://tfhub.dev/tensorflow/bert_en_uncased_preprocess/3',\n",
    "    'small_bert/bert_en_uncased_L-4_H-512_A-8':\n",
    "        'https://tfhub.dev/tensorflow/bert_en_uncased_preprocess/3',\n",
    "    'small_bert/bert_en_uncased_L-4_H-768_A-12':\n",
    "        'https://tfhub.dev/tensorflow/bert_en_uncased_preprocess/3',\n",
    "    'small_bert/bert_en_uncased_L-6_H-128_A-2':\n",
    "        'https://tfhub.dev/tensorflow/bert_en_uncased_preprocess/3',\n",
    "    'small_bert/bert_en_uncased_L-6_H-256_A-4':\n",
    "        'https://tfhub.dev/tensorflow/bert_en_uncased_preprocess/3',\n",
    "    'small_bert/bert_en_uncased_L-6_H-512_A-8':\n",
    "        'https://tfhub.dev/tensorflow/bert_en_uncased_preprocess/3',\n",
    "    'small_bert/bert_en_uncased_L-6_H-768_A-12':\n",
    "        'https://tfhub.dev/tensorflow/bert_en_uncased_preprocess/3',\n",
    "    'small_bert/bert_en_uncased_L-8_H-128_A-2':\n",
    "        'https://tfhub.dev/tensorflow/bert_en_uncased_preprocess/3',\n",
    "    'small_bert/bert_en_uncased_L-8_H-256_A-4':\n",
    "        'https://tfhub.dev/tensorflow/bert_en_uncased_preprocess/3',\n",
    "    'small_bert/bert_en_uncased_L-8_H-512_A-8':\n",
    "        'https://tfhub.dev/tensorflow/bert_en_uncased_preprocess/3',\n",
    "    'small_bert/bert_en_uncased_L-8_H-768_A-12':\n",
    "        'https://tfhub.dev/tensorflow/bert_en_uncased_preprocess/3',\n",
    "    'small_bert/bert_en_uncased_L-10_H-128_A-2':\n",
    "        'https://tfhub.dev/tensorflow/bert_en_uncased_preprocess/3',\n",
    "    'small_bert/bert_en_uncased_L-10_H-256_A-4':\n",
    "        'https://tfhub.dev/tensorflow/bert_en_uncased_preprocess/3',\n",
    "    'small_bert/bert_en_uncased_L-10_H-512_A-8':\n",
    "        'https://tfhub.dev/tensorflow/bert_en_uncased_preprocess/3',\n",
    "    'small_bert/bert_en_uncased_L-10_H-768_A-12':\n",
    "        'https://tfhub.dev/tensorflow/bert_en_uncased_preprocess/3',\n",
    "    'small_bert/bert_en_uncased_L-12_H-128_A-2':\n",
    "        'https://tfhub.dev/tensorflow/bert_en_uncased_preprocess/3',\n",
    "    'small_bert/bert_en_uncased_L-12_H-256_A-4':\n",
    "        'https://tfhub.dev/tensorflow/bert_en_uncased_preprocess/3',\n",
    "    'small_bert/bert_en_uncased_L-12_H-512_A-8':\n",
    "        'https://tfhub.dev/tensorflow/bert_en_uncased_preprocess/3',\n",
    "    'small_bert/bert_en_uncased_L-12_H-768_A-12':\n",
    "        'https://tfhub.dev/tensorflow/bert_en_uncased_preprocess/3',\n",
    "    'bert_multi_cased_L-12_H-768_A-12':\n",
    "        'https://tfhub.dev/tensorflow/bert_multi_cased_preprocess/3',\n",
    "    'albert_en_base':\n",
    "        'https://tfhub.dev/tensorflow/albert_en_preprocess/3',\n",
    "    'electra_small':\n",
    "        'https://tfhub.dev/tensorflow/bert_en_uncased_preprocess/3',\n",
    "    'electra_base':\n",
    "        'https://tfhub.dev/tensorflow/bert_en_uncased_preprocess/3',\n",
    "    'experts_pubmed':\n",
    "        'https://tfhub.dev/tensorflow/bert_en_uncased_preprocess/3',\n",
    "    'experts_wiki_books':\n",
    "        'https://tfhub.dev/tensorflow/bert_en_uncased_preprocess/3',\n",
    "    'talking-heads_base':\n",
    "        'https://tfhub.dev/tensorflow/bert_en_uncased_preprocess/3',\n",
    "}\n",
    "\n",
    "tfhub_handle_encoder = map_name_to_handle[bert_model_name]  #select URL for chosen model\n",
    "tfhub_handle_preprocess = map_model_to_preprocess[bert_model_name] # select URL for chosen preprocess model\n",
    "\n",
    "print(f'BERT model selected           : {tfhub_handle_encoder}')\n",
    "print(f'Preprocess model auto-selected: {tfhub_handle_preprocess}')"
   ]
  },
  {
   "cell_type": "code",
   "execution_count": 10,
   "metadata": {
    "id": "6fAIMh3gPHIF"
   },
   "outputs": [],
   "source": [
    "#Build your bert model\n",
    "def build_classifier_model():\n",
    "  text_input = tf.keras.layers.Input(shape=(), dtype=tf.string, name='text')  #define your input\n",
    "  preprocessing_layer = hub.KerasLayer(tfhub_handle_preprocess, name='preprocessing') #define preprocessing bert layer(This layer takes care of preprocessing steps required in bert model)\n",
    "  encoder_inputs = preprocessing_layer(text_input) #define preprocessing steps for the data so that they can be fed to bert model\n",
    "  encoder = hub.KerasLayer(tfhub_handle_encoder, trainable=True, name='BERT_encoder')  #define bert model\n",
    "  outputs = encoder(encoder_inputs) #Pass preprocessed data to bert model\n",
    "  net = outputs['pooled_output']    # outputs are taken from pooled output layer in bert model \n",
    "  net = tf.keras.layers.Dropout(0.1)(net)\n",
    "  net = tf.keras.layers.Dense(16, activation='softmax', name='classifier')(net)\n",
    "  return tf.keras.Model(text_input, net)"
   ]
  },
  {
   "cell_type": "code",
   "execution_count": null,
   "metadata": {
    "id": "mTcwjrUulMSM"
   },
   "outputs": [],
   "source": []
  },
  {
   "cell_type": "code",
   "execution_count": 11,
   "metadata": {
    "colab": {
     "base_uri": "https://localhost:8080/"
    },
    "id": "guniYYtbPORF",
    "outputId": "8ebc44ea-01a7-4c84-8ee8-8550b2d3d0c7"
   },
   "outputs": [
    {
     "name": "stdout",
     "output_type": "stream",
     "text": [
      "Model: \"model\"\n",
      "__________________________________________________________________________________________________\n",
      " Layer (type)                   Output Shape         Param #     Connected to                     \n",
      "==================================================================================================\n",
      " text (InputLayer)              [(None,)]            0           []                               \n",
      "                                                                                                  \n",
      " preprocessing (KerasLayer)     {'input_word_ids':   0           ['text[0][0]']                   \n",
      "                                (None, 128),                                                      \n",
      "                                 'input_type_ids':                                                \n",
      "                                (None, 128),                                                      \n",
      "                                 'input_mask': (Non                                               \n",
      "                                e, 128)}                                                          \n",
      "                                                                                                  \n",
      " BERT_encoder (KerasLayer)      {'default': (None,   28763649    ['preprocessing[0][0]',          \n",
      "                                512),                             'preprocessing[0][1]',          \n",
      "                                 'pooled_output': (               'preprocessing[0][2]']          \n",
      "                                None, 512),                                                       \n",
      "                                 'sequence_output':                                               \n",
      "                                 (None, 128, 512),                                                \n",
      "                                 'encoder_outputs':                                               \n",
      "                                 [(None, 128, 512),                                               \n",
      "                                 (None, 128, 512),                                                \n",
      "                                 (None, 128, 512),                                                \n",
      "                                 (None, 128, 512)]}                                               \n",
      "                                                                                                  \n",
      " dropout (Dropout)              (None, 512)          0           ['BERT_encoder[0][5]']           \n",
      "                                                                                                  \n",
      " classifier (Dense)             (None, 16)           8208        ['dropout[0][0]']                \n",
      "                                                                                                  \n",
      "==================================================================================================\n",
      "Total params: 28,771,857\n",
      "Trainable params: 28,771,856\n",
      "Non-trainable params: 1\n",
      "__________________________________________________________________________________________________\n"
     ]
    }
   ],
   "source": [
    "#define model and check how the model looks\n",
    "classifier_model = build_classifier_model() \n",
    "classifier_model.summary()"
   ]
  },
  {
   "cell_type": "code",
   "execution_count": 12,
   "metadata": {
    "colab": {
     "base_uri": "https://localhost:8080/",
     "height": 466
    },
    "id": "GVtSJpkkPVwj",
    "outputId": "0886c123-4de9-446d-b2a9-90be224a3b17"
   },
   "outputs": [
    {
     "data": {
      "image/png": "[encoded data removed]",
      "text/plain": [
       "<IPython.core.display.Image object>"
      ]
     },
     "execution_count": 12,
     "metadata": {},
     "output_type": "execute_result"
    }
   ],
   "source": [
    "#plot your model\n",
    "tf.keras.utils.plot_model(classifier_model)"
   ]
  },
  {
   "cell_type": "code",
   "execution_count": 13,
   "metadata": {
    "id": "PFhojCscPYQt"
   },
   "outputs": [],
   "source": [
    "epochs = 10    #This parameter defines how many complete data is seen by model. Increase this value for larger dataset\n",
    "steps_per_epoch = tf.data.experimental.cardinality(train_ds).numpy() #This parameter defines how many batches to be considerd in one epoch\n",
    "num_train_steps = steps_per_epoch * epochs \n",
    "num_warmup_steps = int(0.1*num_train_steps)\n",
    "\n",
    "init_lr = 3e-5  #learning rate used during model training\n",
    "\n",
    "#optimizer used during model training\n",
    "optimizer = optimization.create_optimizer(init_lr=init_lr,\n",
    "                                          num_train_steps=num_train_steps,\n",
    "                                          num_warmup_steps=num_warmup_steps,\n",
    "                                          optimizer_type='adamw')"
   ]
  },
  {
   "cell_type": "code",
   "execution_count": 14,
   "metadata": {
    "id": "JsD9-QPePHSm"
   },
   "outputs": [],
   "source": [
    "#Compile model using optimizer. also define loss and performance_metric \n",
    "classifier_model.compile(optimizer=optimizer,\n",
    "                         loss='sparse_categorical_crossentropy',\n",
    "                         metrics='accuracy')"
   ]
  },
  {
   "cell_type": "code",
   "execution_count": 15,
   "metadata": {
    "colab": {
     "base_uri": "https://localhost:8080/"
    },
    "id": "kZ--VQAIPvc4",
    "outputId": "d2387dc7-4999-4e54-894c-25ac14ba2cad"
   },
   "outputs": [
    {
     "name": "stdout",
     "output_type": "stream",
     "text": [
      "Training model with https://tfhub.dev/tensorflow/small_bert/bert_en_uncased_L-4_H-512_A-8/1\n",
      "Epoch 1/10\n",
      "103/103 [==============================] - 113s 1s/step - loss: 2.8267 - accuracy: 0.1317 - val_loss: 2.6460 - val_accuracy: 0.2157\n",
      "Epoch 2/10\n",
      "103/103 [==============================] - 100s 976ms/step - loss: 2.1316 - accuracy: 0.3659 - val_loss: 2.1447 - val_accuracy: 0.3725\n",
      "Epoch 3/10\n",
      "103/103 [==============================] - 99s 966ms/step - loss: 1.2597 - accuracy: 0.7220 - val_loss: 1.6904 - val_accuracy: 0.5294\n",
      "Epoch 4/10\n",
      "103/103 [==============================] - 97s 943ms/step - loss: 0.7590 - accuracy: 0.8585 - val_loss: 1.5180 - val_accuracy: 0.5098\n",
      "Epoch 5/10\n",
      "103/103 [==============================] - 98s 955ms/step - loss: 0.4319 - accuracy: 0.9268 - val_loss: 1.3802 - val_accuracy: 0.5686\n",
      "Epoch 6/10\n",
      "103/103 [==============================] - 98s 952ms/step - loss: 0.2779 - accuracy: 0.9463 - val_loss: 1.2963 - val_accuracy: 0.6078\n",
      "Epoch 7/10\n",
      "103/103 [==============================] - 98s 951ms/step - loss: 0.1962 - accuracy: 0.9707 - val_loss: 1.2105 - val_accuracy: 0.6471\n",
      "Epoch 8/10\n",
      "103/103 [==============================] - 97s 945ms/step - loss: 0.1321 - accuracy: 0.9756 - val_loss: 1.1569 - val_accuracy: 0.6863\n",
      "Epoch 9/10\n",
      "103/103 [==============================] - 97s 944ms/step - loss: 0.1167 - accuracy: 0.9805 - val_loss: 1.1521 - val_accuracy: 0.7059\n",
      "Epoch 10/10\n",
      "103/103 [==============================] - 97s 938ms/step - loss: 0.0955 - accuracy: 0.9854 - val_loss: 1.1433 - val_accuracy: 0.6863\n"
     ]
    }
   ],
   "source": [
    "print(f'Training model with {tfhub_handle_encoder}')\n",
    "history = classifier_model.fit(x=train_ds,\n",
    "                               validation_data=val_ds,\n",
    "                               epochs=epochs)"
   ]
  },
  {
   "cell_type": "code",
   "execution_count": 18,
   "metadata": {
    "colab": {
     "base_uri": "https://localhost:8080/"
    },
    "id": "kk7lyKIh34of",
    "outputId": "1b93b9e3-19a7-45f7-f53c-a1131a5931a1"
   },
   "outputs": [
    {
     "name": "stderr",
     "output_type": "stream",
     "text": [
      "WARNING:absl:Found untraced functions such as restored_function_body, restored_function_body, restored_function_body, restored_function_body, restored_function_body while saving (showing 5 of 310). These functions will not be directly callable after loading.\n"
     ]
    }
   ],
   "source": [
    "#save model for future use\n",
    "saved_model_path = '/content/gdrive/MyDrive'\n",
    "classifier_model.save(saved_model_path, include_optimizer=False)"
   ]
  },
  {
   "cell_type": "code",
   "execution_count": 19,
   "metadata": {
    "id": "4Hthz14EPvz6"
   },
   "outputs": [],
   "source": [
    "#reload saved model\n",
    "reloaded_model = tf.saved_model.load(saved_model_path)"
   ]
  },
  {
   "cell_type": "code",
   "execution_count": 20,
   "metadata": {
    "id": "L_vaf28gTqJR"
   },
   "outputs": [],
   "source": [
    "TestDataPath = '/content/gdrive/MyDrive/TestData'"
   ]
  },
  {
   "cell_type": "code",
   "execution_count": 24,
   "metadata": {
    "id": "-vjRL6F3TqUB"
   },
   "outputs": [],
   "source": [
    "#This function extracts filename, text data from text_files and make it in list format\n",
    "def get_texts_files(TestDataPath):\n",
    "  files = []\n",
    "  texts = []\n",
    "  for _, _ , filenames in os.walk(TestDataPath):\n",
    "    for filename in filenames:\n",
    "      files.append(filename)\n",
    "      fullpathfile = os.path.join(TestDataPath,filename)\n",
    "      with open(fullpathfile, 'r', encoding=\"utf8\", errors='ignore') as infile:\n",
    "              intext = ''\n",
    "              for line in infile:\n",
    "                intext = intext + ' ' + line.replace('\\n','')\n",
    "              texts.append(intext)\n",
    "  return texts, files\n"
   ]
  },
  {
   "cell_type": "code",
   "execution_count": 25,
   "metadata": {
    "id": "ienNnhgaVVYV"
   },
   "outputs": [],
   "source": [
    "texts, files = get_texts_files(TestDataPath)"
   ]
  },
  {
   "cell_type": "code",
   "execution_count": 26,
   "metadata": {
    "id": "2-tWRZvCPHZU"
   },
   "outputs": [],
   "source": [
    "#prediction results\n",
    "Results = reloaded_model(tf.constant(texts))"
   ]
  },
  {
   "cell_type": "code",
   "execution_count": 27,
   "metadata": {
    "id": "bVvKk3WccRQ9"
   },
   "outputs": [],
   "source": [
    "class_names = ['Application', 'Assessment', 'Calculations and Specification', 'Certificate', 'Checklist', 'Compliance', \n",
    "               'Consent Conditions', 'Correspondence', 'Financial Document', 'Legal Document', 'Meeting Document', 'Objection Submission',\n",
    "               'Plan', 'ProducerStatement', 'Report', 'Site Investigation']"
   ]
  },
  {
   "cell_type": "code",
   "execution_count": 31,
   "metadata": {
    "id": "Z6k7YPRtb2tL"
   },
   "outputs": [],
   "source": [
    "#This function will write results to csv\n",
    "def write_results_csv(Results, files, class_names):\n",
    "  FileName = []\n",
    "  ClassName = []\n",
    "  Confidence = []\n",
    "  for i, result in enumerate(Results.numpy()):\n",
    "    ind = result.argmax()\n",
    "    FileName.append(files[i])\n",
    "    ClassName.append(class_names[ind])\n",
    "    Confidence.append(round(result.max() * 100, 2))\n",
    "  final_results = {'FileName':FileName, 'ClassName': ClassName, 'Confidence': Confidence}\n",
    "  df = pd.DataFrame(final_results)\n",
    "  print(df)\n",
    "  return df.to_csv('Results.csv')"
   ]
  },
  {
   "cell_type": "code",
   "execution_count": 32,
   "metadata": {
    "colab": {
     "base_uri": "https://localhost:8080/"
    },
    "id": "qX-_slrcQnrB",
    "outputId": "edbfdfe6-e59b-4e65-9817-24b3d4e7873c"
   },
   "outputs": [
    {
     "name": "stdout",
     "output_type": "stream",
     "text": [
      "  FileName    ClassName  Confidence\n",
      "0    2.txt  Application       99.90\n",
      "1    9.txt  Application       99.91\n",
      "2    0.txt  Application       99.92\n",
      "3    4.txt  Application       99.92\n",
      "4    3.txt  Application       99.91\n",
      "5    5.txt  Application       99.91\n",
      "6    8.txt  Application       99.49\n",
      "7    1.txt  Application       98.82\n",
      "8    6.txt  Application       99.92\n",
      "9    7.txt  Application       99.15\n"
     ]
    }
   ],
   "source": [
    "write_results_csv(Results, files, class_names)"
   ]
  }
 ],
 "metadata": {
  "colab": {
   "collapsed_sections": [],
   "name": "Document_Classification_Using_BERT.ipynb",
   "provenance": []
  },
  "kernelspec": {
   "display_name": "Python 3 (ipykernel)",
   "language": "python",
   "name": "python3"
  },
  "language_info": {
   "codemirror_mode": {
    "name": "ipython",
    "version": 3
   },
   "file_extension": ".py",
   "mimetype": "text/x-python",
   "name": "python",
   "nbconvert_exporter": "python",
   "pygments_lexer": "ipython3",
   "version": "3.10.9"
  }
 },
 "nbformat": 4,
 "nbformat_minor": 1
}
